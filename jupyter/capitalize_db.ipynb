{
 "cells": [
  {
   "cell_type": "code",
   "execution_count": 1,
   "metadata": {},
   "outputs": [],
   "source": [
    "import json\n",
    "import random\n",
    "import uuid\n",
    "import pandas as pd\n",
    "import matplotlib.pyplot as plt\n",
    "# import Levenshtein\n",
    "import enchant \n",
    "from pyvi import ViTokenizer"
   ]
  },
  {
   "cell_type": "code",
   "execution_count": 2,
   "metadata": {},
   "outputs": [],
   "source": [
    "def load_jsonfile(path):\n",
    "    list_data = []\n",
    "    for line in open(path, 'r'):\n",
    "        list_data.append(json.loads(line))\n",
    "    df = pd.DataFrame.from_dict(list_data)\n",
    "    return df"
   ]
  },
  {
   "cell_type": "code",
   "execution_count": 3,
   "metadata": {},
   "outputs": [],
   "source": [
    "def equal_word(ca,cb,threshold):\n",
    "    diff = enchant.utils.levenshtein(ca, cb)\n",
    "    len_target = len(cb) + len(cb)\n",
    "    \n",
    "    if len_target != 0:\n",
    "        equal = float(abs(len_target - diff)/len_target)\n",
    "        print(equal)\n",
    "        if equal >= threshold:\n",
    "            return True\n",
    "        else:\n",
    "            return False\n",
    "    else:\n",
    "        return False"
   ]
  },
  {
   "cell_type": "code",
   "execution_count": 4,
   "metadata": {},
   "outputs": [
    {
     "name": "stdout",
     "output_type": "stream",
     "text": [
      "0.5\n"
     ]
    },
    {
     "data": {
      "text/plain": [
       "False"
      ]
     },
     "execution_count": 4,
     "metadata": {},
     "output_type": "execute_result"
    }
   ],
   "source": [
    "ca = 'b00'\n",
    "cb = 'a'\n",
    "threshold = 0.6\n",
    "equal_word(ca,cb,threshold)"
   ]
  },
  {
   "cell_type": "code",
   "execution_count": 6,
   "metadata": {},
   "outputs": [],
   "source": [
    "db_path = '/home/taindp/PycharmProjects/thesis/data/database_full_feature.json'\n",
    "df_db = load_jsonfile(db_path)"
   ]
  },
  {
   "cell_type": "code",
   "execution_count": 7,
   "metadata": {},
   "outputs": [
    {
     "data": {
      "text/html": [
       "<div>\n",
       "<style scoped>\n",
       "    .dataframe tbody tr th:only-of-type {\n",
       "        vertical-align: middle;\n",
       "    }\n",
       "\n",
       "    .dataframe tbody tr th {\n",
       "        vertical-align: top;\n",
       "    }\n",
       "\n",
       "    .dataframe thead th {\n",
       "        text-align: right;\n",
       "    }\n",
       "</style>\n",
       "<table border=\"1\" class=\"dataframe\">\n",
       "  <thead>\n",
       "    <tr style=\"text-align: right;\">\n",
       "      <th></th>\n",
       "      <th>major_code</th>\n",
       "      <th>major_name</th>\n",
       "      <th>type_edu</th>\n",
       "      <th>point</th>\n",
       "      <th>year</th>\n",
       "      <th>career</th>\n",
       "      <th>subject</th>\n",
       "      <th>tuition</th>\n",
       "      <th>subject_group</th>\n",
       "      <th>case</th>\n",
       "      <th>criteria</th>\n",
       "      <th>object</th>\n",
       "      <th>register</th>\n",
       "    </tr>\n",
       "  </thead>\n",
       "  <tbody>\n",
       "    <tr>\n",
       "      <th>0</th>\n",
       "      <td>[112]</td>\n",
       "      <td>[kỹ thuật dệt]</td>\n",
       "      <td>[đại học chính quy đại trà]</td>\n",
       "      <td>[23.5]</td>\n",
       "      <td>[2020]</td>\n",
       "      <td>[quản lý vận hành các dây chuyền sản xuất sợi ...</td>\n",
       "      <td>[toán, vật lý, tiếng anh]</td>\n",
       "      <td>[320000 việt nam đồng]</td>\n",
       "      <td>[a01, a1]</td>\n",
       "      <td>[thi tốt nghiệp trung học phổ thông]</td>\n",
       "      <td>[90]</td>\n",
       "      <td>[tất cả các thí sinh có kết quả thi tốt nghiệp...</td>\n",
       "      <td>[đăng ký dự thi kỳ thi tốt nghiệp thpt 2021, đ...</td>\n",
       "    </tr>\n",
       "  </tbody>\n",
       "</table>\n",
       "</div>"
      ],
      "text/plain": [
       "  major_code      major_name                     type_edu   point    year  \\\n",
       "0      [112]  [kỹ thuật dệt]  [đại học chính quy đại trà]  [23.5]  [2020]   \n",
       "\n",
       "                                              career  \\\n",
       "0  [quản lý vận hành các dây chuyền sản xuất sợi ...   \n",
       "\n",
       "                     subject                 tuition subject_group  \\\n",
       "0  [toán, vật lý, tiếng anh]  [320000 việt nam đồng]     [a01, a1]   \n",
       "\n",
       "                                   case criteria  \\\n",
       "0  [thi tốt nghiệp trung học phổ thông]     [90]   \n",
       "\n",
       "                                              object  \\\n",
       "0  [tất cả các thí sinh có kết quả thi tốt nghiệp...   \n",
       "\n",
       "                                            register  \n",
       "0  [đăng ký dự thi kỳ thi tốt nghiệp thpt 2021, đ...  "
      ]
     },
     "execution_count": 7,
     "metadata": {},
     "output_type": "execute_result"
    }
   ],
   "source": [
    "df_db.head(1)"
   ]
  },
  {
   "cell_type": "code",
   "execution_count": 8,
   "metadata": {},
   "outputs": [],
   "source": [
    "# # capitalize() major_name\n",
    "# list_major_name = list(df_db['major_name'])\n",
    "# list_major_name_capi = [[item[0].capitalize()] for item in list_major_name]\n",
    "# # list_major_name_capi\n",
    "# df_db['major_name'] = list_major_name_capi"
   ]
  },
  {
   "cell_type": "code",
   "execution_count": 9,
   "metadata": {},
   "outputs": [],
   "source": [
    "dict_replace_type_edu = {}\n",
    "dict_replace_type_edu['đại học chính quy đại trà'] = ['chính quy', 'đại trà']\n",
    "dict_replace_type_edu['chương trình chất lượng cao tiên tiến'] = ['chất lượng cao', 'tiên tiến']\n",
    "dict_replace_type_edu['phân hiệu bến tre'] = ['phân hiệu bến tre']"
   ]
  },
  {
   "cell_type": "code",
   "execution_count": 10,
   "metadata": {},
   "outputs": [],
   "source": [
    "# list_type_edu"
   ]
  },
  {
   "cell_type": "code",
   "execution_count": 11,
   "metadata": {},
   "outputs": [],
   "source": [
    "# split type_edu\n",
    "list_type_edu = list(df_db['type_edu'])\n",
    "list_type_edu_replace = [dict_replace_type_edu[item[0]] for item in list_type_edu]\n",
    "df_db['type_edu'] = list_type_edu_replace"
   ]
  },
  {
   "cell_type": "code",
   "execution_count": 12,
   "metadata": {},
   "outputs": [],
   "source": [
    "# list_type_edu_replace"
   ]
  },
  {
   "cell_type": "code",
   "execution_count": 13,
   "metadata": {},
   "outputs": [
    {
     "data": {
      "text/html": [
       "<div>\n",
       "<style scoped>\n",
       "    .dataframe tbody tr th:only-of-type {\n",
       "        vertical-align: middle;\n",
       "    }\n",
       "\n",
       "    .dataframe tbody tr th {\n",
       "        vertical-align: top;\n",
       "    }\n",
       "\n",
       "    .dataframe thead th {\n",
       "        text-align: right;\n",
       "    }\n",
       "</style>\n",
       "<table border=\"1\" class=\"dataframe\">\n",
       "  <thead>\n",
       "    <tr style=\"text-align: right;\">\n",
       "      <th></th>\n",
       "      <th>major_code</th>\n",
       "      <th>major_name</th>\n",
       "      <th>type_edu</th>\n",
       "      <th>point</th>\n",
       "      <th>year</th>\n",
       "      <th>career</th>\n",
       "      <th>subject</th>\n",
       "      <th>tuition</th>\n",
       "      <th>subject_group</th>\n",
       "      <th>case</th>\n",
       "      <th>criteria</th>\n",
       "      <th>object</th>\n",
       "      <th>register</th>\n",
       "    </tr>\n",
       "  </thead>\n",
       "  <tbody>\n",
       "    <tr>\n",
       "      <th>0</th>\n",
       "      <td>[112]</td>\n",
       "      <td>[kỹ thuật dệt]</td>\n",
       "      <td>[chính quy, đại trà]</td>\n",
       "      <td>[23.5]</td>\n",
       "      <td>[2020]</td>\n",
       "      <td>[quản lý vận hành các dây chuyền sản xuất sợi ...</td>\n",
       "      <td>[toán, vật lý, tiếng anh]</td>\n",
       "      <td>[320000 việt nam đồng]</td>\n",
       "      <td>[a01, a1]</td>\n",
       "      <td>[thi tốt nghiệp trung học phổ thông]</td>\n",
       "      <td>[90]</td>\n",
       "      <td>[tất cả các thí sinh có kết quả thi tốt nghiệp...</td>\n",
       "      <td>[đăng ký dự thi kỳ thi tốt nghiệp thpt 2021, đ...</td>\n",
       "    </tr>\n",
       "  </tbody>\n",
       "</table>\n",
       "</div>"
      ],
      "text/plain": [
       "  major_code      major_name              type_edu   point    year  \\\n",
       "0      [112]  [kỹ thuật dệt]  [chính quy, đại trà]  [23.5]  [2020]   \n",
       "\n",
       "                                              career  \\\n",
       "0  [quản lý vận hành các dây chuyền sản xuất sợi ...   \n",
       "\n",
       "                     subject                 tuition subject_group  \\\n",
       "0  [toán, vật lý, tiếng anh]  [320000 việt nam đồng]     [a01, a1]   \n",
       "\n",
       "                                   case criteria  \\\n",
       "0  [thi tốt nghiệp trung học phổ thông]     [90]   \n",
       "\n",
       "                                              object  \\\n",
       "0  [tất cả các thí sinh có kết quả thi tốt nghiệp...   \n",
       "\n",
       "                                            register  \n",
       "0  [đăng ký dự thi kỳ thi tốt nghiệp thpt 2021, đ...  "
      ]
     },
     "execution_count": 13,
     "metadata": {},
     "output_type": "execute_result"
    }
   ],
   "source": [
    "df_db.head(1)"
   ]
  },
  {
   "cell_type": "code",
   "execution_count": 14,
   "metadata": {},
   "outputs": [],
   "source": [
    "# # capitalize() subject\n",
    "# list_subject = list(df_db['subject'])\n",
    "# list_subject_capi = []\n",
    "# for item in list_subject:\n",
    "#     item_capi = [subitem.capitalize() for subitem in item]\n",
    "#     list_subject_capi.append(item_capi)\n",
    "# df_db['subject'] = list_subject_capi"
   ]
  },
  {
   "cell_type": "code",
   "execution_count": 15,
   "metadata": {},
   "outputs": [],
   "source": [
    "# replace tuition\n",
    "dict_replace_tution = {}\n",
    "dict_replace_tution['320000 việt nam đồng'] = '5.850.000'\n",
    "dict_replace_tution['1850000 việt nam đồng'] = '30.000.000'\n",
    "list_tuition = list(df_db['tuition'])\n",
    "list_tuition_replace = [[dict_replace_tution[item[0]]] for item in list_tuition]\n",
    "df_db['tuition'] = list_tuition_replace"
   ]
  },
  {
   "cell_type": "code",
   "execution_count": 16,
   "metadata": {},
   "outputs": [],
   "source": [
    "# # capitalize() subject_group\n",
    "# list_subject_group = list(df_db['subject_group'])\n",
    "# list_subject_group_capi = []\n",
    "# for item in list_subject_group:\n",
    "#     item_capi = [subitem.capitalize() for subitem in item]\n",
    "#     list_subject_group_capi.append(item_capi)\n",
    "# # list_subject_group_capi\n",
    "# df_db['subject_group'] = list_subject_group_capi"
   ]
  },
  {
   "cell_type": "code",
   "execution_count": 36,
   "metadata": {},
   "outputs": [],
   "source": [
    "# # capitalize() case\n",
    "# list_case = list(df_db['case'])\n",
    "# list_case_capi = [[item[0].capitalize()] for item in list_case]\n",
    "# # list_case_capi\n",
    "# df_db['case'] = list_case_capi"
   ]
  },
  {
   "cell_type": "code",
   "execution_count": 17,
   "metadata": {},
   "outputs": [],
   "source": [
    "dict_replace_object = {}\n",
    "dict_replace_object['tất cả các thí sinh có kết quả thi tốt nghiệp thpt 2021'] = 'Thi tốt nghiệp THPT năm 2021'.lower()\n",
    "dict_replace_object['học sinh giỏi thuộc các trường thpt chuyên năng khiếu'] = 'Học sinh các trường Chuyên và Năng khiếu'.lower()\n",
    "dict_replace_object['tốt nghiệp thpt năm 2021'] = 'Thi tốt nghiệp THPT năm 2021'.lower()\n",
    "dict_replace_object['học sinh giỏi từ 2 năm trở lên đối với học sinh các trường thpt chuyên năng khiếu thực hành sư phạm'] = 'Học sinh giỏi 2 năm trở lên'.lower()\n",
    "dict_replace_object['học sinh giỏi 3 năm đối với các trường thpt còn lại trong danh sách'] = 'Học sinh giỏi 3 năm trở lên'.lower()\n",
    "dict_replace_object['thành viên đội tuyển của trường hoặc tỉnh thành tham dự kỳ thi học sinh giỏi quốc gia'] = 'Thành viên đội tuyển tham dự Học sinh giỏi quốc gia'.lower()\n",
    "dict_replace_object['có hạnh kiểm tốt trong năm lớp 10 lớp 11 và lớp 12'] = 'Hạnh kiểm tốt trong 3 năm'.lower()\n",
    "dict_replace_object['chỉ áp dụng một lần đúng năm học sinh tốt nghiệp thpt'] = 'Áp dụng một lần đúng năm học sinh tốt nghiệp THPT'.lower()\n",
    "dict_replace_object['tất cả các thí sinh có kết quả kỳ đánh giá năng lực do đại học quốc gia tp hcm tổ chức'] = 'Thi đánh giá năng lực ĐHQG-TPHCM'.lower()"
   ]
  },
  {
   "cell_type": "code",
   "execution_count": 19,
   "metadata": {},
   "outputs": [],
   "source": [
    "# dict_replace_object"
   ]
  },
  {
   "cell_type": "code",
   "execution_count": 20,
   "metadata": {},
   "outputs": [],
   "source": [
    "list_object = list(df_db['object'])\n",
    "list_object_replace = []\n",
    "for item in list_object:\n",
    "    sublist_replace = []\n",
    "    for subitem in item:\n",
    "        sublist_replace.append(dict_replace_object[subitem])\n",
    "    list_object_replace.append(sublist_replace)\n",
    "df_db['object'] = list_object_replace"
   ]
  },
  {
   "cell_type": "code",
   "execution_count": 21,
   "metadata": {},
   "outputs": [],
   "source": [
    "# list_reg = list(df_db['register'])\n",
    "# list_reg_capi = []\n",
    "# for item in list_reg:\n",
    "#     sublist_reg = []\n",
    "#     for subitem in item:\n",
    "#         sublist_reg.append(subitem.capitalize().replace('thpt','THPT'))\n",
    "#     list_reg_capi.append(sublist_reg)\n",
    "    \n",
    "# df_db['register'] = list_reg_capi"
   ]
  },
  {
   "cell_type": "code",
   "execution_count": 22,
   "metadata": {},
   "outputs": [],
   "source": [
    "# list_career = list(df_db['career'])\n",
    "# list_career_capi = []\n",
    "\n",
    "# for item in list_career:\n",
    "#     sublist_career_capi = []\n",
    "#     for subitem in item:\n",
    "#         sublist_career_capi.append(subitem.capitalize())\n",
    "#     list_career_capi.append(sublist_career_capi)\n",
    "# # list_career_capi"
   ]
  },
  {
   "cell_type": "code",
   "execution_count": 23,
   "metadata": {},
   "outputs": [],
   "source": [
    "# df_db['career'] = list_career_capi"
   ]
  },
  {
   "cell_type": "code",
   "execution_count": 42,
   "metadata": {},
   "outputs": [],
   "source": [
    "# file_career = open('/home/taindp/PycharmProjects/edit_data/career.txt','w')\n",
    "# for item in list_career_capi:\n",
    "#     for idx,subitem in enumerate(item):\n",
    "#         if idx < len(item) - 1:\n",
    "#             file_career.write(subitem)\n",
    "#             file_career.write(',')\n",
    "#         else:\n",
    "#             file_career.write(subitem)\n",
    "#     file_career.write('\\n')"
   ]
  },
  {
   "cell_type": "code",
   "execution_count": 30,
   "metadata": {},
   "outputs": [],
   "source": [
    "list_point = list(df_db['point'])\n",
    "list_point_fix = [[float(item[0])] for item in list_point]\n",
    "df_db['point'] = list_point_fix"
   ]
  },
  {
   "cell_type": "code",
   "execution_count": 33,
   "metadata": {},
   "outputs": [],
   "source": [
    "list_criteria = list(df_db['criteria'])\n",
    "list_criteria_fix = [[int(item[0])] for item in list_criteria]\n",
    "df_db['criteria'] = list_criteria_fix"
   ]
  },
  {
   "cell_type": "code",
   "execution_count": 36,
   "metadata": {},
   "outputs": [],
   "source": [
    "# list_criteria_fix"
   ]
  },
  {
   "cell_type": "code",
   "execution_count": 34,
   "metadata": {},
   "outputs": [
    {
     "data": {
      "text/html": [
       "<div>\n",
       "<style scoped>\n",
       "    .dataframe tbody tr th:only-of-type {\n",
       "        vertical-align: middle;\n",
       "    }\n",
       "\n",
       "    .dataframe tbody tr th {\n",
       "        vertical-align: top;\n",
       "    }\n",
       "\n",
       "    .dataframe thead th {\n",
       "        text-align: right;\n",
       "    }\n",
       "</style>\n",
       "<table border=\"1\" class=\"dataframe\">\n",
       "  <thead>\n",
       "    <tr style=\"text-align: right;\">\n",
       "      <th></th>\n",
       "      <th>major_code</th>\n",
       "      <th>major_name</th>\n",
       "      <th>type_edu</th>\n",
       "      <th>point</th>\n",
       "      <th>year</th>\n",
       "      <th>career</th>\n",
       "      <th>subject</th>\n",
       "      <th>tuition</th>\n",
       "      <th>subject_group</th>\n",
       "      <th>case</th>\n",
       "      <th>criteria</th>\n",
       "      <th>object</th>\n",
       "      <th>register</th>\n",
       "    </tr>\n",
       "  </thead>\n",
       "  <tbody>\n",
       "    <tr>\n",
       "      <th>0</th>\n",
       "      <td>[112]</td>\n",
       "      <td>[kỹ thuật dệt]</td>\n",
       "      <td>[chính quy, đại trà]</td>\n",
       "      <td>[23.5]</td>\n",
       "      <td>[2020]</td>\n",
       "      <td>[quản lý vận hành các dây chuyền sản xuất sợi ...</td>\n",
       "      <td>[toán, vật lý, tiếng anh]</td>\n",
       "      <td>[5.850.000]</td>\n",
       "      <td>[a01, a1]</td>\n",
       "      <td>[thi tốt nghiệp trung học phổ thông]</td>\n",
       "      <td>[90]</td>\n",
       "      <td>[thi tốt nghiệp thpt năm 2021]</td>\n",
       "      <td>[đăng ký dự thi kỳ thi tốt nghiệp thpt 2021, đ...</td>\n",
       "    </tr>\n",
       "  </tbody>\n",
       "</table>\n",
       "</div>"
      ],
      "text/plain": [
       "  major_code      major_name              type_edu   point    year  \\\n",
       "0      [112]  [kỹ thuật dệt]  [chính quy, đại trà]  [23.5]  [2020]   \n",
       "\n",
       "                                              career  \\\n",
       "0  [quản lý vận hành các dây chuyền sản xuất sợi ...   \n",
       "\n",
       "                     subject      tuition subject_group  \\\n",
       "0  [toán, vật lý, tiếng anh]  [5.850.000]     [a01, a1]   \n",
       "\n",
       "                                   case criteria  \\\n",
       "0  [thi tốt nghiệp trung học phổ thông]     [90]   \n",
       "\n",
       "                           object  \\\n",
       "0  [thi tốt nghiệp thpt năm 2021]   \n",
       "\n",
       "                                            register  \n",
       "0  [đăng ký dự thi kỳ thi tốt nghiệp thpt 2021, đ...  "
      ]
     },
     "execution_count": 34,
     "metadata": {},
     "output_type": "execute_result"
    }
   ],
   "source": [
    "df_db.head(1)"
   ]
  },
  {
   "cell_type": "code",
   "execution_count": 38,
   "metadata": {},
   "outputs": [],
   "source": [
    "dict_db = df_db.to_dict('records')\n",
    "export_db_mongo = open('/home/taindp/PycharmProjects/thesis/data/database_normalize.json','w')\n",
    "for item in dict_db:\n",
    "    item2str = str(item)\n",
    "    itemjson = item2str.replace(r\"'\",r'\"').replace(r'\"[',r'[').replace(r']\"',r']')\n",
    "    export_db_mongo.write(itemjson)\n",
    "    export_db_mongo.write('\\n')"
   ]
  }
 ],
 "metadata": {
  "kernelspec": {
   "display_name": "fastai",
   "language": "python",
   "name": "fastai"
  },
  "language_info": {
   "codemirror_mode": {
    "name": "ipython",
    "version": 3
   },
   "file_extension": ".py",
   "mimetype": "text/x-python",
   "name": "python",
   "nbconvert_exporter": "python",
   "pygments_lexer": "ipython3",
   "version": "3.6.12"
  }
 },
 "nbformat": 4,
 "nbformat_minor": 4
}
