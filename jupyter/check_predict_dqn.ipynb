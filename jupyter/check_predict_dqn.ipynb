{
 "cells": [
  {
   "cell_type": "code",
   "execution_count": 1,
   "metadata": {},
   "outputs": [
    {
     "data": {
      "text/plain": [
       "'/home/taindp/PycharmProjects/thesis/jupyter'"
      ]
     },
     "execution_count": 1,
     "metadata": {},
     "output_type": "execute_result"
    }
   ],
   "source": [
    "%pwd"
   ]
  },
  {
   "cell_type": "code",
   "execution_count": 2,
   "metadata": {},
   "outputs": [
    {
     "name": "stdout",
     "output_type": "stream",
     "text": [
      "/home/taindp/PycharmProjects/thesis\n"
     ]
    }
   ],
   "source": [
    "%cd .."
   ]
  },
  {
   "cell_type": "code",
   "execution_count": 3,
   "metadata": {},
   "outputs": [
    {
     "name": "stdout",
     "output_type": "stream",
     "text": [
      "/home/taindp/PycharmProjects/thesis/dqn\n"
     ]
    }
   ],
   "source": [
    "%cd dqn"
   ]
  },
  {
   "cell_type": "code",
   "execution_count": 4,
   "metadata": {},
   "outputs": [],
   "source": [
    "import sys"
   ]
  },
  {
   "cell_type": "code",
   "execution_count": 5,
   "metadata": {},
   "outputs": [],
   "source": [
    "sys.path.append('/home/taindp/PycharmProjects/thesis/dqn')"
   ]
  },
  {
   "cell_type": "code",
   "execution_count": 6,
   "metadata": {},
   "outputs": [],
   "source": [
    "from dialogue_config import rule_requests, agent_actions"
   ]
  },
  {
   "cell_type": "code",
   "execution_count": 9,
   "metadata": {},
   "outputs": [
    {
     "name": "stdout",
     "output_type": "stream",
     "text": [
      "{'intent': 'done', 'inform_slots': {}, 'request_slots': {}}\n",
      "{'intent': 'match_found', 'inform_slots': {}, 'request_slots': {}}\n",
      "{'intent': 'inform', 'inform_slots': {'major_name': 'PLACEHOLDER'}, 'request_slots': {}}\n",
      "{'intent': 'inform', 'inform_slots': {'type_edu': 'PLACEHOLDER'}, 'request_slots': {}}\n",
      "{'intent': 'inform', 'inform_slots': {'career': 'PLACEHOLDER'}, 'request_slots': {}}\n",
      "{'intent': 'inform', 'inform_slots': {'subject': 'PLACEHOLDER'}, 'request_slots': {}}\n",
      "{'intent': 'inform', 'inform_slots': {'tuition': 'PLACEHOLDER'}, 'request_slots': {}}\n",
      "{'intent': 'inform', 'inform_slots': {'subject_group': 'PLACEHOLDER'}, 'request_slots': {}}\n",
      "{'intent': 'inform', 'inform_slots': {'satisfy': 'PLACEHOLDER'}, 'request_slots': {}}\n",
      "{'intent': 'inform', 'inform_slots': {'point': 'PLACEHOLDER'}, 'request_slots': {}}\n",
      "{'intent': 'inform', 'inform_slots': {'major_code': 'PLACEHOLDER'}, 'request_slots': {}}\n",
      "{'intent': 'inform', 'inform_slots': {'year': 'PLACEHOLDER'}, 'request_slots': {}}\n"
     ]
    }
   ],
   "source": [
    "for item in agent_actions:\n",
    "    if item['intent'] != 'request':\n",
    "        print(item)"
   ]
  }
 ],
 "metadata": {
  "kernelspec": {
   "display_name": "fastai",
   "language": "python",
   "name": "fastai"
  },
  "language_info": {
   "codemirror_mode": {
    "name": "ipython",
    "version": 3
   },
   "file_extension": ".py",
   "mimetype": "text/x-python",
   "name": "python",
   "nbconvert_exporter": "python",
   "pygments_lexer": "ipython3",
   "version": "3.6.12"
  }
 },
 "nbformat": 4,
 "nbformat_minor": 4
}
