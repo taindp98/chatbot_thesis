{
 "cells": [
  {
   "cell_type": "code",
   "execution_count": 1,
   "metadata": {},
   "outputs": [],
   "source": [
    "import pandas as pd\n",
    "import json\n",
    "import os\n",
    "import sys\n",
    "import urllib.request\n",
    "from fastai.text import *\n",
    "import urllib\n",
    "from google.cloud import storage"
   ]
  },
  {
   "cell_type": "code",
   "execution_count": 2,
   "metadata": {},
   "outputs": [],
   "source": [
    "sys.path.append('/home/taindp/PycharmProjects/thesis/')"
   ]
  },
  {
   "cell_type": "code",
   "execution_count": 3,
   "metadata": {},
   "outputs": [],
   "source": [
    "from utils import remove_stopword"
   ]
  },
  {
   "cell_type": "code",
   "execution_count": 4,
   "metadata": {},
   "outputs": [],
   "source": [
    "data_path = '/home/taindp/PycharmProjects/thesis/data'"
   ]
  },
  {
   "cell_type": "code",
   "execution_count": 5,
   "metadata": {},
   "outputs": [],
   "source": [
    "file = pd.read_csv(os.path.join(data_path,'train_intent_synth.csv'))\n",
    "df_suffle = file.sample(frac=1).reset_index(drop=True)"
   ]
  },
  {
   "cell_type": "code",
   "execution_count": 6,
   "metadata": {},
   "outputs": [],
   "source": [
    "list_rm_content = []\n",
    "list_rm_label  = []\n",
    "count = 0\n",
    "for index,item in enumerate(list(file['content'])):\n",
    "    item_rm_sw = remove_stopword(item)\n",
    "    if file['label'].iloc[index] == 0:\n",
    "        count += 1\n",
    "        if count < 100:\n",
    "            list_rm_content.append(item_rm_sw)\n",
    "            list_rm_label.append(file['label'].iloc[index])\n",
    "    else:\n",
    "        list_rm_content.append(item_rm_sw)\n",
    "        list_rm_label.append(file['label'].iloc[index])\n",
    "new_file = pd.DataFrame([])\n",
    "new_file['label'] = list_rm_label\n",
    "new_file['content'] = list_rm_content"
   ]
  },
  {
   "cell_type": "code",
   "execution_count": 7,
   "metadata": {},
   "outputs": [
    {
     "data": {
      "text/html": [
       "<div>\n",
       "<style scoped>\n",
       "    .dataframe tbody tr th:only-of-type {\n",
       "        vertical-align: middle;\n",
       "    }\n",
       "\n",
       "    .dataframe tbody tr th {\n",
       "        vertical-align: top;\n",
       "    }\n",
       "\n",
       "    .dataframe thead th {\n",
       "        text-align: right;\n",
       "    }\n",
       "</style>\n",
       "<table border=\"1\" class=\"dataframe\">\n",
       "  <thead>\n",
       "    <tr style=\"text-align: right;\">\n",
       "      <th></th>\n",
       "      <th>label</th>\n",
       "      <th>content</th>\n",
       "    </tr>\n",
       "  </thead>\n",
       "  <tbody>\n",
       "    <tr>\n",
       "      <th>0</th>\n",
       "      <td>1</td>\n",
       "      <td>học nghề nấu ăn ở hướng nghiệp âu ổn ai học re...</td>\n",
       "    </tr>\n",
       "    <tr>\n",
       "      <th>1</th>\n",
       "      <td>0</td>\n",
       "      <td>trường đại học ngoại thương tuyển thẳng nghành...</td>\n",
       "    </tr>\n",
       "    <tr>\n",
       "      <th>2</th>\n",
       "      <td>0</td>\n",
       "      <td>e định vô đại học công nghiệp tp hcm ý kiến</td>\n",
       "    </tr>\n",
       "    <tr>\n",
       "      <th>3</th>\n",
       "      <td>0</td>\n",
       "      <td>ai đi du học</td>\n",
       "    </tr>\n",
       "    <tr>\n",
       "      <th>4</th>\n",
       "      <td>0</td>\n",
       "      <td>đơn đăng kí nếu ghi thi khối c03 ngành công an...</td>\n",
       "    </tr>\n",
       "    <tr>\n",
       "      <th>...</th>\n",
       "      <td>...</td>\n",
       "      <td>...</td>\n",
       "    </tr>\n",
       "    <tr>\n",
       "      <th>172</th>\n",
       "      <td>1</td>\n",
       "      <td>nào học ngành qhcc pr tổ chức sự kiện trường c...</td>\n",
       "    </tr>\n",
       "    <tr>\n",
       "      <th>173</th>\n",
       "      <td>1</td>\n",
       "      <td>mong muốn học kinh tế quốc tế biết có thể tư vấn</td>\n",
       "    </tr>\n",
       "    <tr>\n",
       "      <th>174</th>\n",
       "      <td>1</td>\n",
       "      <td>review ngành quan hệ công chúng giữa trường đạ...</td>\n",
       "    </tr>\n",
       "    <tr>\n",
       "      <th>175</th>\n",
       "      <td>1</td>\n",
       "      <td>lớp 12 thi truyền thông đa phương tiện nên thi...</td>\n",
       "    </tr>\n",
       "    <tr>\n",
       "      <th>176</th>\n",
       "      <td>1</td>\n",
       "      <td>khoa cntt truyền thông đại học đà nẵng lời khuyên</td>\n",
       "    </tr>\n",
       "  </tbody>\n",
       "</table>\n",
       "<p>177 rows × 2 columns</p>\n",
       "</div>"
      ],
      "text/plain": [
       "     label                                            content\n",
       "0        1  học nghề nấu ăn ở hướng nghiệp âu ổn ai học re...\n",
       "1        0  trường đại học ngoại thương tuyển thẳng nghành...\n",
       "2        0        e định vô đại học công nghiệp tp hcm ý kiến\n",
       "3        0                                       ai đi du học\n",
       "4        0  đơn đăng kí nếu ghi thi khối c03 ngành công an...\n",
       "..     ...                                                ...\n",
       "172      1  nào học ngành qhcc pr tổ chức sự kiện trường c...\n",
       "173      1   mong muốn học kinh tế quốc tế biết có thể tư vấn\n",
       "174      1  review ngành quan hệ công chúng giữa trường đạ...\n",
       "175      1  lớp 12 thi truyền thông đa phương tiện nên thi...\n",
       "176      1  khoa cntt truyền thông đại học đà nẵng lời khuyên\n",
       "\n",
       "[177 rows x 2 columns]"
      ]
     },
     "execution_count": 7,
     "metadata": {},
     "output_type": "execute_result"
    }
   ],
   "source": [
    "new_file"
   ]
  },
  {
   "cell_type": "code",
   "execution_count": 8,
   "metadata": {},
   "outputs": [],
   "source": [
    "new_file.to_csv(os.path.join(data_path,'train_intent_rm_sw.csv'),index=False,header=True)"
   ]
  }
 ],
 "metadata": {
  "kernelspec": {
   "display_name": "fastai",
   "language": "python",
   "name": "fastai"
  },
  "language_info": {
   "codemirror_mode": {
    "name": "ipython",
    "version": 3
   },
   "file_extension": ".py",
   "mimetype": "text/x-python",
   "name": "python",
   "nbconvert_exporter": "python",
   "pygments_lexer": "ipython3",
   "version": "3.6.12"
  }
 },
 "nbformat": 4,
 "nbformat_minor": 4
}
