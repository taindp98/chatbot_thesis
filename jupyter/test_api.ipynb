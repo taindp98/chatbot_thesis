{
 "cells": [
  {
   "cell_type": "code",
   "execution_count": 1,
   "metadata": {},
   "outputs": [],
   "source": [
    "import json\n",
    "import requests"
   ]
  },
  {
   "cell_type": "code",
   "execution_count": 30,
   "metadata": {},
   "outputs": [
    {
     "name": "stdout",
     "output_type": "stream",
     "text": [
      "200 OK {'agent_action': {'inform_slots': {'subject': ['toán', 'vật lý', 'hóa học']}, 'intent': 'inform', 'request_slots': {}, 'round': 1, 'speaker': 'Agent'}, 'code': 200, 'current_informs': {'major_name': ['bảo dưỡng công nghiệp'], 'subject': ['toán', 'vật lý', 'hóa học']}, 'message': '\\n\"toán,\\nvật lý,\\nhóa học\" thuộc tổ hợp khối thi cho ngành bạn cần tìm', 'state_tracker_id': '218539'}\n"
     ]
    }
   ],
   "source": [
    "api_url = 'http://0.0.0.0:6969/api/convers-manager'\n",
    "input_data = {\"message\":'cho em hỏi em muốn  thi ngành bảo dưỡng công nghiệp thì nên tập trung học môn nào ạ'}\n",
    "r = requests.post(url=api_url, json=input_data)\n",
    "print(r.status_code, r.reason, r.json())"
   ]
  },
  {
   "cell_type": "code",
   "execution_count": 35,
   "metadata": {},
   "outputs": [
    {
     "data": {
      "text/plain": [
       "'toán,vật lý,hóa học thuộc tổ hợp khối thi cho ngành bạn cần tìm'"
      ]
     },
     "execution_count": 35,
     "metadata": {},
     "output_type": "execute_result"
    }
   ],
   "source": [
    "response = r.json()\n",
    "response['message'].replace('\\n', r'').replace(r'\"',r'')"
   ]
  }
 ],
 "metadata": {
  "kernelspec": {
   "display_name": "fastai",
   "language": "python",
   "name": "fastai"
  },
  "language_info": {
   "codemirror_mode": {
    "name": "ipython",
    "version": 3
   },
   "file_extension": ".py",
   "mimetype": "text/x-python",
   "name": "python",
   "nbconvert_exporter": "python",
   "pygments_lexer": "ipython3",
   "version": "3.6.12"
  }
 },
 "nbformat": 4,
 "nbformat_minor": 4
}
