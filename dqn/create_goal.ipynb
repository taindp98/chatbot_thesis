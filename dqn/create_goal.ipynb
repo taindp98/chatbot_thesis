{
 "cells": [
  {
   "cell_type": "code",
   "execution_count": 6,
   "metadata": {},
   "outputs": [
    {
     "name": "stderr",
     "output_type": "stream",
     "text": [
      "/home/taindp/anaconda3/envs/nlp/lib/python3.6/site-packages/tensorflow/python/framework/dtypes.py:516: FutureWarning: Passing (type, 1) or '1type' as a synonym of type is deprecated; in a future version of numpy, it will be understood as (type, (1,)) / '(1,)type'.\n",
      "  _np_qint8 = np.dtype([(\"qint8\", np.int8, 1)])\n",
      "/home/taindp/anaconda3/envs/nlp/lib/python3.6/site-packages/tensorflow/python/framework/dtypes.py:517: FutureWarning: Passing (type, 1) or '1type' as a synonym of type is deprecated; in a future version of numpy, it will be understood as (type, (1,)) / '(1,)type'.\n",
      "  _np_quint8 = np.dtype([(\"quint8\", np.uint8, 1)])\n",
      "/home/taindp/anaconda3/envs/nlp/lib/python3.6/site-packages/tensorflow/python/framework/dtypes.py:518: FutureWarning: Passing (type, 1) or '1type' as a synonym of type is deprecated; in a future version of numpy, it will be understood as (type, (1,)) / '(1,)type'.\n",
      "  _np_qint16 = np.dtype([(\"qint16\", np.int16, 1)])\n",
      "/home/taindp/anaconda3/envs/nlp/lib/python3.6/site-packages/tensorflow/python/framework/dtypes.py:519: FutureWarning: Passing (type, 1) or '1type' as a synonym of type is deprecated; in a future version of numpy, it will be understood as (type, (1,)) / '(1,)type'.\n",
      "  _np_quint16 = np.dtype([(\"quint16\", np.uint16, 1)])\n",
      "/home/taindp/anaconda3/envs/nlp/lib/python3.6/site-packages/tensorflow/python/framework/dtypes.py:520: FutureWarning: Passing (type, 1) or '1type' as a synonym of type is deprecated; in a future version of numpy, it will be understood as (type, (1,)) / '(1,)type'.\n",
      "  _np_qint32 = np.dtype([(\"qint32\", np.int32, 1)])\n",
      "/home/taindp/anaconda3/envs/nlp/lib/python3.6/site-packages/tensorflow/python/framework/dtypes.py:525: FutureWarning: Passing (type, 1) or '1type' as a synonym of type is deprecated; in a future version of numpy, it will be understood as (type, (1,)) / '(1,)type'.\n",
      "  np_resource = np.dtype([(\"resource\", np.ubyte, 1)])\n",
      "/home/taindp/anaconda3/envs/nlp/lib/python3.6/site-packages/tensorboard/compat/tensorflow_stub/dtypes.py:541: FutureWarning: Passing (type, 1) or '1type' as a synonym of type is deprecated; in a future version of numpy, it will be understood as (type, (1,)) / '(1,)type'.\n",
      "  _np_qint8 = np.dtype([(\"qint8\", np.int8, 1)])\n",
      "/home/taindp/anaconda3/envs/nlp/lib/python3.6/site-packages/tensorboard/compat/tensorflow_stub/dtypes.py:542: FutureWarning: Passing (type, 1) or '1type' as a synonym of type is deprecated; in a future version of numpy, it will be understood as (type, (1,)) / '(1,)type'.\n",
      "  _np_quint8 = np.dtype([(\"quint8\", np.uint8, 1)])\n",
      "/home/taindp/anaconda3/envs/nlp/lib/python3.6/site-packages/tensorboard/compat/tensorflow_stub/dtypes.py:543: FutureWarning: Passing (type, 1) or '1type' as a synonym of type is deprecated; in a future version of numpy, it will be understood as (type, (1,)) / '(1,)type'.\n",
      "  _np_qint16 = np.dtype([(\"qint16\", np.int16, 1)])\n",
      "/home/taindp/anaconda3/envs/nlp/lib/python3.6/site-packages/tensorboard/compat/tensorflow_stub/dtypes.py:544: FutureWarning: Passing (type, 1) or '1type' as a synonym of type is deprecated; in a future version of numpy, it will be understood as (type, (1,)) / '(1,)type'.\n",
      "  _np_quint16 = np.dtype([(\"quint16\", np.uint16, 1)])\n",
      "/home/taindp/anaconda3/envs/nlp/lib/python3.6/site-packages/tensorboard/compat/tensorflow_stub/dtypes.py:545: FutureWarning: Passing (type, 1) or '1type' as a synonym of type is deprecated; in a future version of numpy, it will be understood as (type, (1,)) / '(1,)type'.\n",
      "  _np_qint32 = np.dtype([(\"qint32\", np.int32, 1)])\n",
      "/home/taindp/anaconda3/envs/nlp/lib/python3.6/site-packages/tensorboard/compat/tensorflow_stub/dtypes.py:550: FutureWarning: Passing (type, 1) or '1type' as a synonym of type is deprecated; in a future version of numpy, it will be understood as (type, (1,)) / '(1,)type'.\n",
      "  np_resource = np.dtype([(\"resource\", np.ubyte, 1)])\n"
     ]
    }
   ],
   "source": [
    "import json\n",
    "import random\n",
    "from tensorflow import __version__"
   ]
  },
  {
   "cell_type": "code",
   "execution_count": 7,
   "metadata": {},
   "outputs": [
    {
     "name": "stdout",
     "output_type": "stream",
     "text": [
      "1.14.0\n"
     ]
    }
   ],
   "source": [
    "print(__version__)"
   ]
  },
  {
   "cell_type": "code",
   "execution_count": 2,
   "metadata": {},
   "outputs": [
    {
     "data": {
      "text/plain": [
       "'/home/taindp/PycharmProjects/thesis/dqn'"
      ]
     },
     "execution_count": 2,
     "metadata": {},
     "output_type": "execute_result"
    }
   ],
   "source": [
    "%pwd"
   ]
  },
  {
   "cell_type": "code",
   "execution_count": 3,
   "metadata": {},
   "outputs": [],
   "source": [
    "\n",
    "def create_user_goal(ite_num_goal,db_path,rule_requests,slot_informs,slot_requests):\n",
    "    list_goal = []\n",
    "    for ite in range(ite_num_goal):\n",
    "        db = json.load(open(db_path,'r'))\n",
    "        for item in db:\n",
    "            dict_goal = {}\n",
    "            dict_goal['diaact'] = \"request\"\n",
    "            num_req = random.randint(0,1)\n",
    "#             num_req = 1\n",
    "    \n",
    "            del item['_id']\n",
    "            full_slot = list(item.keys())\n",
    "\n",
    "            if num_req == 0:\n",
    "                dict_goal['request_slots'] = {}\n",
    "                dict_goal['inform_slots'] = {}\n",
    "                inf_slot = random.sample(full_slot,k=random.randint(1,slot_informs))\n",
    "#                 inf_slot = full_slot\n",
    "    \n",
    "                for s in inf_slot:\n",
    "                    if len(item[s]) > 1:\n",
    "                        dict_goal['inform_slots'][s] = random.sample(item[s],random.randint(1,2))\n",
    "                    else:\n",
    "                        dict_goal['inform_slots'][s] = item[s]\n",
    "        #     print(dict_goal)\n",
    "            else:\n",
    "                dict_goal['request_slots'] = {}\n",
    "                dict_goal['inform_slots'] = {}\n",
    "                req_slot = random.sample(rule_requests,slot_requests)[0]\n",
    "                \n",
    "                dict_goal['request_slots'][req_slot] = 'UNK'\n",
    "                \n",
    "                inf_slot = random.sample(full_slot,k=random.randint(1,slot_informs))\n",
    "#                 full_slot.pop(full_slot.index(req_slot))\n",
    "#                 inf_slot = full_slot\n",
    "#                 print(inf_slot)\n",
    "                while req_slot in inf_slot:\n",
    "                    inf_slot = random.sample(full_slot,k=random.randint(1,slot_informs))\n",
    "                for s in inf_slot:\n",
    "                    if len(item[s]) > 1:\n",
    "                        dict_goal['inform_slots'][s] = random.sample(item[s],random.randint(1,2))\n",
    "                    else:\n",
    "                        dict_goal['inform_slots'][s] = item[s]\n",
    "            if dict_goal not in list_goal:\n",
    "                list_goal.append(dict_goal)\n",
    "    return list_goal"
   ]
  },
  {
   "cell_type": "code",
   "execution_count": 4,
   "metadata": {},
   "outputs": [
    {
     "data": {
      "text/plain": [
       "389"
      ]
     },
     "execution_count": 4,
     "metadata": {},
     "output_type": "execute_result"
    }
   ],
   "source": [
    "db_path = '/home/taindp/PycharmProjects/thesis/data/db_hcmut_dqn_31dec.json'\n",
    "rule_requests = ['major_name', 'type_edu','subject','subject_group','point', 'year']\n",
    "# rule_requests = ['major_name', 'type_edu', 'career', 'subject','tuition_one_credit', 'subject_group', 'satify', 'point','major_code','year']\n",
    "# rule_requests = ['major_name']\n",
    "slot_informs = 1\n",
    "slot_requests = 1\n",
    "my_goal = create_user_goal(3,db_path,rule_requests,slot_informs,slot_requests)\n",
    "len(my_goal)"
   ]
  },
  {
   "cell_type": "code",
   "execution_count": 5,
   "metadata": {},
   "outputs": [
    {
     "data": {
      "text/plain": [
       "43602"
      ]
     },
     "execution_count": 5,
     "metadata": {},
     "output_type": "execute_result"
    }
   ],
   "source": [
    "fileout = open('/home/taindp/PycharmProjects/thesis/data/goal_hcmut_%s_%s.json'% (slot_informs,len(rule_requests)),'w')\n",
    "item2str = str(my_goal).replace(r\"'\",r'\"')\n",
    "fileout.write(item2str)"
   ]
  }
 ],
 "metadata": {
  "kernelspec": {
   "display_name": "nlp",
   "language": "python",
   "name": "nlp"
  },
  "language_info": {
   "codemirror_mode": {
    "name": "ipython",
    "version": 3
   },
   "file_extension": ".py",
   "mimetype": "text/x-python",
   "name": "python",
   "nbconvert_exporter": "python",
   "pygments_lexer": "ipython3",
   "version": "3.6.12"
  }
 },
 "nbformat": 4,
 "nbformat_minor": 4
}
