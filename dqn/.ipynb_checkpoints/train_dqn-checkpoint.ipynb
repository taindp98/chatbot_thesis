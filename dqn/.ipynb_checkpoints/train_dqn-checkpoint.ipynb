{
 "cells": [
  {
   "cell_type": "code",
   "execution_count": 1,
   "metadata": {
    "colab": {
     "base_uri": "https://localhost:8080/"
    },
    "executionInfo": {
     "elapsed": 22700,
     "status": "ok",
     "timestamp": 1606202473481,
     "user": {
      "displayName": "Tai Nguyen",
      "photoUrl": "https://lh3.googleusercontent.com/a-/AOh14GgSxoywFDHJGfnox9fCFqAY1AQP9LOTTIEWMfp7=s64",
      "userId": "06617934336246210574"
     },
     "user_tz": -420
    },
    "id": "XU0rdu6qNJXX",
    "outputId": "2bf876bf-35b7-4287-df33-688d3e330548"
   },
   "outputs": [],
   "source": [
    "# from google.colab import drive\n",
    "# drive.mount('/content/drive')"
   ]
  },
  {
   "cell_type": "code",
   "execution_count": 2,
   "metadata": {},
   "outputs": [],
   "source": [
    "# %pwd"
   ]
  },
  {
   "cell_type": "code",
   "execution_count": 3,
   "metadata": {
    "colab": {
     "base_uri": "https://localhost:8080/"
    },
    "executionInfo": {
     "elapsed": 23174,
     "status": "ok",
     "timestamp": 1606202473973,
     "user": {
      "displayName": "Tai Nguyen",
      "photoUrl": "https://lh3.googleusercontent.com/a-/AOh14GgSxoywFDHJGfnox9fCFqAY1AQP9LOTTIEWMfp7=s64",
      "userId": "06617934336246210574"
     },
     "user_tz": -420
    },
    "id": "VhIUs_-NVCPj",
    "outputId": "330e0ffc-d4d6-47e3-9c43-b86519c5eb2b",
    "scrolled": true
   },
   "outputs": [],
   "source": [
    "# %cd /content/drive/My\\ Drive/DQN\n",
    "# FOLDER_PATH = '/home/taindp/Jupyter/custom_dqn'\n",
    "# FOLDER_PATH = '/home/taindp/Jupyter/deep_q_learning'\n",
    "FOLDER_PATH = %pwd\n",
    "# FOLDER_PATH = '/home/waves8/taindp/deep_q_learning'\n",
    "CONSTANTS_FILE_PATH = f'{FOLDER_PATH}/constants.json'\n",
    "# SAVE_WEIGHT_PATH =f'weight/goal400_10.h5'\n",
    "\n",
    "# !ls"
   ]
  },
  {
   "cell_type": "code",
   "execution_count": 4,
   "metadata": {},
   "outputs": [
    {
     "name": "stdout",
     "output_type": "stream",
     "text": [
      "/home/taindp/PycharmProjects/thesis/dqn\n"
     ]
    }
   ],
   "source": [
    "PROJ_PATH = '/home/taindp/PycharmProjects/thesis/dqn'\n",
    "# %cd $FOLDER_PATH\n",
    "import sys\n",
    "sys.path.append( '/home/taindp/PycharmProjects/thesis')\n",
    "sys.path.append( '/home/taindp/PycharmProjects/thesis/dqn')"
   ]
  },
  {
   "cell_type": "code",
   "execution_count": 5,
   "metadata": {},
   "outputs": [
    {
     "data": {
      "text/plain": [
       "['/home/taindp/anaconda3/envs/fastai/lib/python36.zip',\n",
       " '/home/taindp/anaconda3/envs/fastai/lib/python3.6',\n",
       " '/home/taindp/anaconda3/envs/fastai/lib/python3.6/lib-dynload',\n",
       " '',\n",
       " '/home/taindp/anaconda3/envs/fastai/lib/python3.6/site-packages',\n",
       " '/home/taindp/anaconda3/envs/fastai/lib/python3.6/site-packages/IPython/extensions',\n",
       " '/home/taindp/.ipython',\n",
       " '/home/taindp/PycharmProjects/thesis',\n",
       " '/home/taindp/PycharmProjects/thesis/dqn']"
      ]
     },
     "execution_count": 5,
     "metadata": {},
     "output_type": "execute_result"
    }
   ],
   "source": [
    "sys.path"
   ]
  },
  {
   "cell_type": "code",
   "execution_count": 6,
   "metadata": {
    "executionInfo": {
     "elapsed": 28082,
     "status": "ok",
     "timestamp": 1606202478884,
     "user": {
      "displayName": "Tai Nguyen",
      "photoUrl": "https://lh3.googleusercontent.com/a-/AOh14GgSxoywFDHJGfnox9fCFqAY1AQP9LOTTIEWMfp7=s64",
      "userId": "06617934336246210574"
     },
     "user_tz": -420
    },
    "id": "w9-ptvW7nod7"
   },
   "outputs": [
    {
     "name": "stderr",
     "output_type": "stream",
     "text": [
      "Using TensorFlow backend.\n"
     ]
    }
   ],
   "source": [
    "%load_ext autoreload\n",
    "%autoreload 2\n",
    "from dqn.user_simulator import UserSimulator\n",
    "from dqn.error_model_controller import ErrorModelController\n",
    "from dqn.dqn_agent import DQNAgent\n",
    "# from dqn_agent import get_action\n",
    "from dqn.state_tracker import StateTracker\n",
    "import pickle, argparse, json, math\n",
    "from dqn.utils import remove_empty_slots\n",
    "from dqn.user import User\n",
    "import time\n",
    "import json\n",
    "from tqdm import tqdm\n",
    "from dqn.db_query import DBQuery\n",
    "from datetime import date\n",
    "\n",
    "today = str(date.today().strftime(\"%d/%m/%Y\")).replace(r'/',r'_')"
   ]
  },
  {
   "cell_type": "code",
   "execution_count": 7,
   "metadata": {
    "executionInfo": {
     "elapsed": 28089,
     "status": "ok",
     "timestamp": 1606202478893,
     "user": {
      "displayName": "Tai Nguyen",
      "photoUrl": "https://lh3.googleusercontent.com/a-/AOh14GgSxoywFDHJGfnox9fCFqAY1AQP9LOTTIEWMfp7=s64",
      "userId": "06617934336246210574"
     },
     "user_tz": -420
    },
    "id": "8JPWNbdSn1hd"
   },
   "outputs": [],
   "source": [
    "def run_round(state, warmup=False):\n",
    "    # 1) Agent takes action given state tracker's representation of dialogue (state)\n",
    "    agent_action_index, agent_action = dqn_agent.get_action(state, use_rule=warmup)\n",
    "#     print('agent_action_index',agent_action_index)\n",
    "#     print('agent_action',agent_action)\n",
    "    # 2) Update state tracker with the agent's action\n",
    "    state_tracker.update_state_agent(agent_action)\n",
    "#     print('current round',agent_action['round'])\n",
    "    # 3) User takes action given agent action\n",
    "    user_action, reward, done, success = user.step(agent_action)\n",
    "#     print('user_action',user_action)\n",
    "#     print('reward',reward)\n",
    "    print('done',done)\n",
    "    print('success',success)\n",
    "    if not done:\n",
    "        # 4) Infuse error into semantic frame level of user action\n",
    "        emc.infuse_error(user_action)\n",
    "#         print('user_action emc',user_action)\n",
    "    # 5) Update state tracker with user action\n",
    "    state_tracker.update_state_user(user_action)\n",
    "#     print('update_state_user',user_action)\n",
    "    # 6) Get next state and add experience\n",
    "    next_state = state_tracker.get_state(done)\n",
    "#     print('next_state',next_state)\n",
    "    dqn_agent.add_experience(state, agent_action_index, reward, next_state, done)\n",
    "    return next_state, reward, done, success\n",
    "\n",
    "\n",
    "def warmup_run():\n",
    "    \"\"\"\n",
    "    Runs the warmup stage of training which is used to fill the agents memory.\n",
    "\n",
    "    The agent uses it's rule-based policy to make actions. The agent's memory is filled as this runs.\n",
    "    Loop terminates when the size of the memory is equal to WARMUP_MEM or when the memory buffer is full.\n",
    "\n",
    "    \"\"\"\n",
    "\n",
    "    print('Warmup Started...')\n",
    "    total_step = 0\n",
    "    with tqdm(total=1) as pbar:\n",
    "        while total_step != WARMUP_MEM and not dqn_agent.is_memory_full():\n",
    "            # Reset episode\n",
    "            episode_reset()\n",
    "            done = False\n",
    "            # Get initial state from state tracker\n",
    "            state = state_tracker.get_state()\n",
    "            # print('State warmup', state)\n",
    "            # print('Type state',type(state))\n",
    "            while not done:\n",
    "                next_state, _, done, _ = run_round(state, warmup=True)\n",
    "#                 next_state, _, done, _ = run_round(state)\n",
    "                total_step += 1\n",
    "                state = next_state\n",
    "            # print(total_step)\n",
    "            # time.sleep(1)\n",
    "            pbar.update(1)\n",
    "    print('...Warmup Ended')\n",
    "\n",
    "\n",
    "def train_run():\n",
    "    \"\"\"\n",
    "    Runs the loop that trains the agent.\n",
    "\n",
    "    Trains the agent on the goal-oriented chatbot task. Training of the agent's neural network occurs every episode that\n",
    "    TRAIN_FREQ is a multiple of. Terminates when the episode reaches NUM_EP_TRAIN.\n",
    "\n",
    "    \"\"\"\n",
    "\n",
    "    print('Training Started...')\n",
    "    episode = 0\n",
    "    period_reward_total = 0\n",
    "    period_success_total = 0\n",
    "    success_rate_best = 0.8\n",
    "    # with tqdm(total=NUM_EP_TRAIN) as pbar1:\n",
    "    while episode < NUM_EP_TRAIN:\n",
    "        episode_reset()\n",
    "        episode += 1\n",
    "#         print('Current episode:',episode)\n",
    "        done = False\n",
    "        state = state_tracker.get_state()\n",
    "        # print('Current state',state)\n",
    "        while not done:\n",
    "            next_state, reward, done, success = run_round(state)\n",
    "            # print('Next state',next_state)\n",
    "#             print('Reward', reward)\n",
    "#             print('Done',done)\n",
    "            period_reward_total += reward\n",
    "            state = next_state\n",
    "#         print(\"success :{0}\".format(success))\n",
    "\n",
    "        period_success_total += success\n",
    "        # print('period_success_total',period_success_total)\n",
    "        # Train\n",
    "        if episode % TRAIN_FREQ == 0:\n",
    "            print('Current episode:',episode)\n",
    "            # Check success rate\n",
    "            success_rate = period_success_total / TRAIN_FREQ\n",
    "            avg_reward = period_reward_total / TRAIN_FREQ\n",
    "            print(\"episode {0}: success rate: {1}\".format(episode, success_rate))\n",
    "\n",
    "            # Flush\n",
    "            if success_rate >= success_rate_best and success_rate >= SUCCESS_RATE_THRESHOLD:\n",
    "                dqn_agent.empty_memory()\n",
    "            # Update current best success rate\n",
    "            if success_rate >= success_rate_best:\n",
    "                print('Episode: {} NEW BEST SUCCESS RATE: {} Avg Reward: {}' .format(episode, success_rate, avg_reward))\n",
    "                success_rate_best = success_rate\n",
    "                dqn_agent.save_weights()\n",
    "            period_success_total = 0\n",
    "            period_reward_total = 0\n",
    "            # Copy\n",
    "            dqn_agent.copy()\n",
    "            # Train\n",
    "            dqn_agent.train()\n",
    "          # pbar1.update(1)\n",
    "    print('...Training Ended')\n",
    "\n",
    "\n",
    "def episode_reset():\n",
    "    \"\"\"\n",
    "    Resets the episode/conversation in the warmup and training loops.\n",
    "\n",
    "    Called in warmup and train to reset the state tracker, user and agent. Also get's the initial user action.\n",
    "\n",
    "    \"\"\"\n",
    "\n",
    "    # First reset the state tracker\n",
    "    state_tracker.reset()\n",
    "    # Then pick an init user action\n",
    "    user_action = user.reset()\n",
    "    # Infuse with error\n",
    "    emc.infuse_error(user_action)\n",
    "    # And update state tracker\n",
    "    state_tracker.update_state_user(user_action)\n",
    "    # Finally, reset agent\n",
    "    dqn_agent.reset()"
   ]
  },
  {
   "cell_type": "code",
   "execution_count": 8,
   "metadata": {
    "executionInfo": {
     "elapsed": 28453,
     "status": "ok",
     "timestamp": 1606202479260,
     "user": {
      "displayName": "Tai Nguyen",
      "photoUrl": "https://lh3.googleusercontent.com/a-/AOh14GgSxoywFDHJGfnox9fCFqAY1AQP9LOTTIEWMfp7=s64",
      "userId": "06617934336246210574"
     },
     "user_tz": -420
    },
    "id": "l5TwlCqPslsV"
   },
   "outputs": [],
   "source": [
    "constants_file = CONSTANTS_FILE_PATH\n",
    "\n",
    "with open(constants_file) as f:\n",
    "    constants = json.load(f)"
   ]
  },
  {
   "cell_type": "code",
   "execution_count": 9,
   "metadata": {
    "colab": {
     "base_uri": "https://localhost:8080/"
    },
    "executionInfo": {
     "elapsed": 28442,
     "status": "ok",
     "timestamp": 1606202479261,
     "user": {
      "displayName": "Tai Nguyen",
      "photoUrl": "https://lh3.googleusercontent.com/a-/AOh14GgSxoywFDHJGfnox9fCFqAY1AQP9LOTTIEWMfp7=s64",
      "userId": "06617934336246210574"
     },
     "user_tz": -420
    },
    "id": "dR3gWABKngqX",
    "outputId": "187fcd89-0753-4901-aa70-2f9d7f0c61d9"
   },
   "outputs": [
    {
     "data": {
      "text/plain": [
       "{'db_file_paths': {'database': './data/db_hcmut_600.json',\n",
       "  'dict': './data/db_entity_jan23.json',\n",
       "  'user_goals': './data/goal_hcmut_600.json'},\n",
       " 'run': {'usersim': True,\n",
       "  'warmup_mem': 5200,\n",
       "  'num_ep_run': 30000,\n",
       "  'train_freq': 100,\n",
       "  'max_round_num': 15,\n",
       "  'success_rate_threshold': 0.2},\n",
       " 'agent': {'save_weights_file_path': '',\n",
       "  'load_weights_file_path': '',\n",
       "  'vanilla': True,\n",
       "  'learning_rate': 0.0005,\n",
       "  'batch_size': 64,\n",
       "  'dqn_hidden_size': 100,\n",
       "  'epsilon_init': 0.0,\n",
       "  'gamma': 0.9,\n",
       "  'max_mem_size': 500000},\n",
       " 'emc': {'slot_error_mode': 0,\n",
       "  'slot_error_prob': 0.1,\n",
       "  'intent_error_prob': 0.0}}"
      ]
     },
     "execution_count": 9,
     "metadata": {},
     "output_type": "execute_result"
    }
   ],
   "source": [
    "constants"
   ]
  },
  {
   "cell_type": "code",
   "execution_count": 10,
   "metadata": {
    "executionInfo": {
     "elapsed": 28441,
     "status": "ok",
     "timestamp": 1606202479266,
     "user": {
      "displayName": "Tai Nguyen",
      "photoUrl": "https://lh3.googleusercontent.com/a-/AOh14GgSxoywFDHJGfnox9fCFqAY1AQP9LOTTIEWMfp7=s64",
      "userId": "06617934336246210574"
     },
     "user_tz": -420
    },
    "id": "14wUoSERt7tU"
   },
   "outputs": [],
   "source": [
    "# Load file path constants\n",
    "file_path_dict = constants['db_file_paths']\n",
    "DATABASE_FILE_PATH = file_path_dict['database']\n",
    "DICT_FILE_PATH = file_path_dict['dict']\n",
    "USER_GOALS_FILE_PATH = file_path_dict['user_goals']"
   ]
  },
  {
   "cell_type": "code",
   "execution_count": 11,
   "metadata": {
    "executionInfo": {
     "elapsed": 28440,
     "status": "ok",
     "timestamp": 1606202479267,
     "user": {
      "displayName": "Tai Nguyen",
      "photoUrl": "https://lh3.googleusercontent.com/a-/AOh14GgSxoywFDHJGfnox9fCFqAY1AQP9LOTTIEWMfp7=s64",
      "userId": "06617934336246210574"
     },
     "user_tz": -420
    },
    "id": "DxCHDrf8uBrV"
   },
   "outputs": [],
   "source": [
    "run_dict = constants['run']\n",
    "USE_USERSIM = run_dict['usersim']\n",
    "WARMUP_MEM = run_dict['warmup_mem']\n",
    "NUM_EP_TRAIN = run_dict['num_ep_run']\n",
    "TRAIN_FREQ = run_dict['train_freq']\n",
    "MAX_ROUND_NUM = run_dict['max_round_num']\n",
    "SUCCESS_RATE_THRESHOLD = run_dict['success_rate_threshold']"
   ]
  },
  {
   "cell_type": "code",
   "execution_count": 12,
   "metadata": {
    "colab": {
     "base_uri": "https://localhost:8080/"
    },
    "executionInfo": {
     "elapsed": 28430,
     "status": "ok",
     "timestamp": 1606202479269,
     "user": {
      "displayName": "Tai Nguyen",
      "photoUrl": "https://lh3.googleusercontent.com/a-/AOh14GgSxoywFDHJGfnox9fCFqAY1AQP9LOTTIEWMfp7=s64",
      "userId": "06617934336246210574"
     },
     "user_tz": -420
    },
    "id": "KLj2x93axohl",
    "outputId": "7830c940-76f4-419e-a0bb-3016124007e9"
   },
   "outputs": [
    {
     "data": {
      "text/plain": [
       "5200"
      ]
     },
     "execution_count": 12,
     "metadata": {},
     "output_type": "execute_result"
    }
   ],
   "source": [
    "WARMUP_MEM"
   ]
  },
  {
   "cell_type": "code",
   "execution_count": 13,
   "metadata": {
    "colab": {
     "base_uri": "https://localhost:8080/"
    },
    "executionInfo": {
     "elapsed": 28419,
     "status": "ok",
     "timestamp": 1606202479270,
     "user": {
      "displayName": "Tai Nguyen",
      "photoUrl": "https://lh3.googleusercontent.com/a-/AOh14GgSxoywFDHJGfnox9fCFqAY1AQP9LOTTIEWMfp7=s64",
      "userId": "06617934336246210574"
     },
     "user_tz": -420
    },
    "id": "ys6OQul_v8Ii",
    "outputId": "3b1dce79-ab74-4192-f6c4-33a1c2be09bf"
   },
   "outputs": [
    {
     "data": {
      "text/plain": [
       "30000"
      ]
     },
     "execution_count": 13,
     "metadata": {},
     "output_type": "execute_result"
    }
   ],
   "source": [
    "NUM_EP_TRAIN"
   ]
  },
  {
   "cell_type": "code",
   "execution_count": 14,
   "metadata": {},
   "outputs": [],
   "source": [
    "constants['agent']['save_weights_file_path'] = 'weight/' + str(today)+ '_' +str(NUM_EP_TRAIN)+ '_'+str(TRAIN_FREQ)+'_'+str(MAX_ROUND_NUM) + '.h5'"
   ]
  },
  {
   "cell_type": "code",
   "execution_count": 15,
   "metadata": {},
   "outputs": [
    {
     "data": {
      "text/plain": [
       "'/home/taindp/PycharmProjects/thesis/dqn'"
      ]
     },
     "execution_count": 15,
     "metadata": {},
     "output_type": "execute_result"
    }
   ],
   "source": [
    "%pwd"
   ]
  },
  {
   "cell_type": "code",
   "execution_count": 16,
   "metadata": {
    "executionInfo": {
     "elapsed": 29429,
     "status": "ok",
     "timestamp": 1606202480282,
     "user": {
      "displayName": "Tai Nguyen",
      "photoUrl": "https://lh3.googleusercontent.com/a-/AOh14GgSxoywFDHJGfnox9fCFqAY1AQP9LOTTIEWMfp7=s64",
      "userId": "06617934336246210574"
     },
     "user_tz": -420
    },
    "id": "_Uuhy6LiwAYN"
   },
   "outputs": [
    {
     "ename": "FileNotFoundError",
     "evalue": "[Errno 2] No such file or directory: './data/db_hcmut_600.json'",
     "output_type": "error",
     "traceback": [
      "\u001b[0;31m---------------------------------------------------------------------------\u001b[0m",
      "\u001b[0;31mFileNotFoundError\u001b[0m                         Traceback (most recent call last)",
      "\u001b[0;32m<ipython-input-16-0b15bcdacca4>\u001b[0m in \u001b[0;36m<module>\u001b[0;34m\u001b[0m\n\u001b[0;32m----> 1\u001b[0;31m \u001b[0mdatabase\u001b[0m\u001b[0;34m=\u001b[0m \u001b[0mjson\u001b[0m\u001b[0;34m.\u001b[0m\u001b[0mload\u001b[0m\u001b[0;34m(\u001b[0m\u001b[0mopen\u001b[0m\u001b[0;34m(\u001b[0m\u001b[0mDATABASE_FILE_PATH\u001b[0m\u001b[0;34m,\u001b[0m\u001b[0mencoding\u001b[0m\u001b[0;34m=\u001b[0m\u001b[0;34m'utf-8'\u001b[0m\u001b[0;34m)\u001b[0m\u001b[0;34m)\u001b[0m\u001b[0;34m\u001b[0m\u001b[0;34m\u001b[0m\u001b[0m\n\u001b[0m",
      "\u001b[0;31mFileNotFoundError\u001b[0m: [Errno 2] No such file or directory: './data/db_hcmut_600.json'"
     ]
    }
   ],
   "source": [
    "database= json.load(open(DATABASE_FILE_PATH,encoding='utf-8'))"
   ]
  },
  {
   "cell_type": "code",
   "execution_count": null,
   "metadata": {
    "executionInfo": {
     "elapsed": 29835,
     "status": "ok",
     "timestamp": 1606202480691,
     "user": {
      "displayName": "Tai Nguyen",
      "photoUrl": "https://lh3.googleusercontent.com/a-/AOh14GgSxoywFDHJGfnox9fCFqAY1AQP9LOTTIEWMfp7=s64",
      "userId": "06617934336246210574"
     },
     "user_tz": -420
    },
    "id": "r-4jdSuswBW-"
   },
   "outputs": [],
   "source": [
    "db_dict = json.load(open(DICT_FILE_PATH,encoding='utf-8'))[0]"
   ]
  },
  {
   "cell_type": "code",
   "execution_count": null,
   "metadata": {
    "executionInfo": {
     "elapsed": 30233,
     "status": "ok",
     "timestamp": 1606202481092,
     "user": {
      "displayName": "Tai Nguyen",
      "photoUrl": "https://lh3.googleusercontent.com/a-/AOh14GgSxoywFDHJGfnox9fCFqAY1AQP9LOTTIEWMfp7=s64",
      "userId": "06617934336246210574"
     },
     "user_tz": -420
    },
    "id": "n5DTvouUwQJ6",
    "scrolled": true
   },
   "outputs": [],
   "source": [
    "user_goals = json.load(open(USER_GOALS_FILE_PATH,encoding='utf-8'))"
   ]
  },
  {
   "cell_type": "code",
   "execution_count": null,
   "metadata": {
    "executionInfo": {
     "elapsed": 30688,
     "status": "ok",
     "timestamp": 1606202481550,
     "user": {
      "displayName": "Tai Nguyen",
      "photoUrl": "https://lh3.googleusercontent.com/a-/AOh14GgSxoywFDHJGfnox9fCFqAY1AQP9LOTTIEWMfp7=s64",
      "userId": "06617934336246210574"
     },
     "user_tz": -420
    },
    "id": "qCCjhhV8sY6A"
   },
   "outputs": [],
   "source": [
    "if USE_USERSIM:\n",
    "    user = UserSimulator(user_goals, constants, database)\n",
    "else:\n",
    "    user = User(constants)\n",
    "emc = ErrorModelController(db_dict, constants)\n",
    "state_tracker = StateTracker(database, constants)\n",
    "dqn_agent = DQNAgent(state_tracker.get_state_size(), constants)"
   ]
  },
  {
   "cell_type": "code",
   "execution_count": null,
   "metadata": {
    "colab": {
     "base_uri": "https://localhost:8080/"
    },
    "executionInfo": {
     "elapsed": 45817,
     "status": "ok",
     "timestamp": 1606202496693,
     "user": {
      "displayName": "Tai Nguyen",
      "photoUrl": "https://lh3.googleusercontent.com/a-/AOh14GgSxoywFDHJGfnox9fCFqAY1AQP9LOTTIEWMfp7=s64",
      "userId": "06617934336246210574"
     },
     "user_tz": -420
    },
    "id": "55LkdRv4wYGp",
    "outputId": "07ebcc40-d0f4-44df-eb6d-4a6ce138c3fe",
    "scrolled": true
   },
   "outputs": [],
   "source": [
    "warmup_run()"
   ]
  },
  {
   "cell_type": "code",
   "execution_count": null,
   "metadata": {
    "colab": {
     "base_uri": "https://localhost:8080/"
    },
    "id": "mI_Zt_79wmQ4",
    "outputId": "e8396ef3-8d25-42bb-b3d7-fb13caf5789b",
    "scrolled": true
   },
   "outputs": [],
   "source": [
    "train_run()"
   ]
  },
  {
   "cell_type": "code",
   "execution_count": null,
   "metadata": {
    "executionInfo": {
     "elapsed": 28443,
     "status": "ok",
     "timestamp": 1606202479264,
     "user": {
      "displayName": "Tai Nguyen",
      "photoUrl": "https://lh3.googleusercontent.com/a-/AOh14GgSxoywFDHJGfnox9fCFqAY1AQP9LOTTIEWMfp7=s64",
      "userId": "06617934336246210574"
     },
     "user_tz": -420
    },
    "id": "cgsme0MTntot"
   },
   "outputs": [],
   "source": [
    "# constants['agent']['save_weights_file_path'] = f'weight/goal400_100_10k.h5'\n",
    "# dqn_agent = DQNAgent(state_tracker.get_state_size(), constants)"
   ]
  },
  {
   "cell_type": "code",
   "execution_count": null,
   "metadata": {},
   "outputs": [],
   "source": [
    "constants"
   ]
  },
  {
   "cell_type": "code",
   "execution_count": null,
   "metadata": {
    "id": "uGrS5TATXOZZ",
    "scrolled": true
   },
   "outputs": [],
   "source": [
    "# dqn_agent.save_weights()"
   ]
  },
  {
   "cell_type": "code",
   "execution_count": null,
   "metadata": {
    "id": "a91VOyKngqss"
   },
   "outputs": [],
   "source": [
    "# NUM_EP_TEST = run_dict['num_ep_run']"
   ]
  },
  {
   "cell_type": "code",
   "execution_count": null,
   "metadata": {},
   "outputs": [],
   "source": [
    "NUM_EP_TEST = 500"
   ]
  },
  {
   "cell_type": "code",
   "execution_count": null,
   "metadata": {
    "id": "zQHpvb6xgGv4"
   },
   "outputs": [],
   "source": [
    "def test_run():\n",
    "    \"\"\"\n",
    "    Runs the loop that tests the agent.\n",
    "\n",
    "    Tests the agent on the goal-oriented chatbot task. Only for evaluating a trained agent. Terminates when the episode\n",
    "    reaches NUM_EP_TEST.\n",
    "\n",
    "    \"\"\"\n",
    "\n",
    "    print('Testing Started...')\n",
    "    episode = 0\n",
    "    while episode < NUM_EP_TEST:\n",
    "        episode_reset()\n",
    "        episode += 1\n",
    "        ep_reward = 0\n",
    "        done = False\n",
    "        # Get initial state from state tracker\n",
    "        state = state_tracker.get_state()\n",
    "        while not done:\n",
    "            # Agent takes action given state tracker's representation of dialogue\n",
    "            agent_action_index, agent_action = dqn_agent.get_action(state)\n",
    "            # Update state tracker with the agent's action\n",
    "            state_tracker.update_state_agent(agent_action)\n",
    "            print(\"agent: {}\".format(str(agent_action)))\n",
    "\n",
    "            # User takes action given agent action\n",
    "            user_action, reward, done, success = user.step(agent_action)\n",
    "            print(\"user: {}\".format(str(user_action)))\n",
    "\n",
    "            ep_reward += reward\n",
    "            if not done:\n",
    "                # Infuse error into semantic frame level of user action\n",
    "                emc.infuse_error(user_action)\n",
    "            # Update state tracker with user action\n",
    "            state_tracker.update_state_user(user_action)\n",
    "            # Grab \"next state\" as state\n",
    "            state = state_tracker.get_state(done)\n",
    "        print('Episode: {} Success: {} Reward: {}'.format(episode, success, ep_reward))\n",
    "    print('...Testing Ended')"
   ]
  },
  {
   "cell_type": "code",
   "execution_count": null,
   "metadata": {
    "id": "IXvTXDKngiHn"
   },
   "outputs": [],
   "source": [
    "test_run()"
   ]
  }
 ],
 "metadata": {
  "accelerator": "GPU",
  "colab": {
   "collapsed_sections": [],
   "name": "train_dqn.ipynb",
   "provenance": []
  },
  "kernelspec": {
   "display_name": "fastai",
   "language": "python",
   "name": "fastai"
  },
  "language_info": {
   "codemirror_mode": {
    "name": "ipython",
    "version": 3
   },
   "file_extension": ".py",
   "mimetype": "text/x-python",
   "name": "python",
   "nbconvert_exporter": "python",
   "pygments_lexer": "ipython3",
   "version": "3.6.12"
  },
  "toc": {
   "base_numbering": 1,
   "nav_menu": {},
   "number_sections": true,
   "sideBar": true,
   "skip_h1_title": false,
   "title_cell": "Table of Contents",
   "title_sidebar": "Contents",
   "toc_cell": false,
   "toc_position": {},
   "toc_section_display": true,
   "toc_window_display": false
  }
 },
 "nbformat": 4,
 "nbformat_minor": 1
}
