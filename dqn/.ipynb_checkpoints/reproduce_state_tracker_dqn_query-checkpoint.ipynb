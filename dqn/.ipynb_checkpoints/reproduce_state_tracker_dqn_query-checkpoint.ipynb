{
 "cells": [
  {
   "cell_type": "code",
   "execution_count": 3,
   "metadata": {},
   "outputs": [],
   "source": [
    "from db_query import DBQuery\n",
    "import numpy as np\n",
    "from utils import convert_list_to_dict\n",
    "from dialogue_config import all_intents, all_slots, usersim_default_key,agent_inform_slots,agent_request_slots\n",
    "import copy\n",
    "import time\n",
    "import json"
   ]
  },
  {
   "cell_type": "code",
   "execution_count": 4,
   "metadata": {},
   "outputs": [],
   "source": [
    "# %pwd\n",
    "FOLDER_PATH = '/home/taindp/Jupyter/custom_dqn'\n",
    "CONSTANTS_FILE_PATH = f'{FOLDER_PATH}/constants.json'\n",
    "constants_file = CONSTANTS_FILE_PATH\n",
    "\n",
    "with open(constants_file) as f:\n",
    "    constants = json.load(f)"
   ]
  },
  {
   "cell_type": "code",
   "execution_count": 6,
   "metadata": {},
   "outputs": [
    {
     "data": {
      "text/plain": [
       "{'db_file_paths': {'database': 'data/db_hcmut_full.json',\n",
       "  'dict': 'data/db_entity_official.json',\n",
       "  'user_goals': 'data/user_goal.json'},\n",
       " 'run': {'usersim': True,\n",
       "  'warmup_mem': 56,\n",
       "  'num_ep_run': 20000,\n",
       "  'train_freq': 100,\n",
       "  'max_round_num': 20,\n",
       "  'success_rate_threshold': 0.3},\n",
       " 'agent': {'save_weights_file_path': '',\n",
       "  'load_weights_file_path': '',\n",
       "  'vanilla': True,\n",
       "  'learning_rate': 0.001,\n",
       "  'batch_size': 128,\n",
       "  'dqn_hidden_size': 70,\n",
       "  'epsilon_init': 0.0,\n",
       "  'gamma': 0.9,\n",
       "  'max_mem_size': 10000},\n",
       " 'emc': {'slot_error_mode': 0,\n",
       "  'slot_error_prob': 0.05,\n",
       "  'intent_error_prob': 0.0}}"
      ]
     },
     "execution_count": 6,
     "metadata": {},
     "output_type": "execute_result"
    }
   ],
   "source": [
    "constants"
   ]
  },
  {
   "cell_type": "code",
   "execution_count": 7,
   "metadata": {},
   "outputs": [],
   "source": [
    "db_file_paths = constants['db_file_paths']['database']"
   ]
  },
  {
   "cell_type": "code",
   "execution_count": 8,
   "metadata": {},
   "outputs": [],
   "source": [
    "database = json.load(open(db_file_paths,'r'))"
   ]
  },
  {
   "cell_type": "code",
   "execution_count": 10,
   "metadata": {},
   "outputs": [],
   "source": [
    "# database"
   ]
  },
  {
   "cell_type": "code",
   "execution_count": 14,
   "metadata": {},
   "outputs": [],
   "source": [
    "def get_state_size():\n",
    "    s = 2*num_intents + 7*num_slots + 3 + max_round_num\n",
    "    return s"
   ]
  },
  {
   "cell_type": "code",
   "execution_count": 13,
   "metadata": {},
   "outputs": [
    {
     "name": "stdout",
     "output_type": "stream",
     "text": [
      "match_key benchmark\n",
      "intents_dict {'inform': 0, 'request': 1, 'done': 2, 'match_found': 3, 'thanks': 4, 'reject': 5}\n",
      "num_intents 6\n",
      "slots_dict {'major_code': 0, 'major_name': 1, 'type_edu': 2, 'point': 3, 'subject_group': 4, 'university_code': 5, 'university_name': 6, 'year': 7, 'rate': 8, 'career': 9, 'company': 10, 'subject': 11, 'typical_group': 12, 'tuition_one_credit': 13, 'tuition_avg_one_sem': 14, 'duration_std': 15, 'credits': 16, 'foreign_lang_min': 17, 'benchmark': 18}\n",
      "num_slots 19\n",
      "none_state [0. 0. 0. 0. 0. 0. 0. 0. 0. 0. 0. 0. 0. 0. 0. 0. 0. 0. 0. 0. 0. 0. 0. 0.\n",
      " 0. 0. 0. 0. 0. 0. 0. 0. 0. 0. 0. 0. 0. 0. 0. 0. 0. 0. 0. 0. 0. 0. 0. 0.\n",
      " 0. 0. 0. 0. 0. 0. 0. 0. 0. 0. 0. 0. 0. 0. 0. 0. 0. 0. 0. 0. 0. 0. 0. 0.\n",
      " 0. 0. 0. 0. 0. 0. 0. 0. 0. 0. 0. 0. 0. 0. 0. 0. 0. 0. 0. 0. 0. 0. 0. 0.\n",
      " 0. 0. 0. 0. 0. 0. 0. 0. 0. 0. 0. 0. 0. 0. 0. 0. 0. 0. 0. 0. 0. 0. 0. 0.\n",
      " 0. 0. 0. 0. 0. 0. 0. 0. 0. 0. 0. 0. 0. 0. 0. 0. 0. 0. 0. 0. 0. 0. 0. 0.\n",
      " 0. 0. 0. 0. 0. 0. 0. 0. 0. 0. 0. 0. 0. 0. 0. 0. 0. 0. 0. 0. 0. 0. 0. 0.]\n"
     ]
    }
   ],
   "source": [
    "db_helper = DBQuery(database)\n",
    "match_key = usersim_default_key\n",
    "intents_dict = convert_list_to_dict(all_intents)\n",
    "num_intents = len(all_intents)\n",
    "slots_dict = convert_list_to_dict(all_slots)\n",
    "num_slots = len(all_slots)\n",
    "max_round_num = constants['run']['max_round_num']\n",
    "none_state = np.zeros(get_state_size())\n",
    "print('match_key',match_key)\n",
    "print('intents_dict',intents_dict)\n",
    "print('num_intents',num_intents)\n",
    "print('slots_dict',slots_dict)\n",
    "print('num_slots',num_slots)\n",
    "print('none_state',none_state)"
   ]
  },
  {
   "cell_type": "code",
   "execution_count": 15,
   "metadata": {},
   "outputs": [],
   "source": [
    "def reset():\n",
    "    current_informs = {}\n",
    "    history = []\n",
    "    round_num =0"
   ]
  },
  {
   "cell_type": "code",
   "execution_count": null,
   "metadata": {},
   "outputs": [],
   "source": []
  }
 ],
 "metadata": {
  "kernelspec": {
   "display_name": "Python [conda env:taindp] *",
   "language": "python",
   "name": "conda-env-taindp-py"
  },
  "language_info": {
   "codemirror_mode": {
    "name": "ipython",
    "version": 3
   },
   "file_extension": ".py",
   "mimetype": "text/x-python",
   "name": "python",
   "nbconvert_exporter": "python",
   "pygments_lexer": "ipython3",
   "version": "3.6.12"
  }
 },
 "nbformat": 4,
 "nbformat_minor": 4
}
