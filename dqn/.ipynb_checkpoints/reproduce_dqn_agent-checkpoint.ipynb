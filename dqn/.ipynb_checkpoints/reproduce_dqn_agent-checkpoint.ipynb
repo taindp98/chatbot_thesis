{
 "cells": [
  {
   "cell_type": "code",
   "execution_count": 9,
   "metadata": {},
   "outputs": [],
   "source": [
    "from tensorflow.keras.models import Sequential\n",
    "from tensorflow.keras.layers import Dense\n",
    "from tensorflow.keras.optimizers import Adam\n",
    "import random, copy\n",
    "import numpy as np\n",
    "from dialogue_config import rule_requests, agent_actions\n",
    "import re\n",
    "from tqdm import tqdm\n",
    "import json"
   ]
  },
  {
   "cell_type": "markdown",
   "metadata": {},
   "source": [
    "# Load constants"
   ]
  },
  {
   "cell_type": "code",
   "execution_count": 10,
   "metadata": {},
   "outputs": [],
   "source": [
    "# %pwd\n",
    "FOLDER_PATH = '/home/taindp/Jupyter/custom_dqn'\n",
    "CONSTANTS_FILE_PATH = f'{FOLDER_PATH}/constants.json'\n",
    "constants_file = CONSTANTS_FILE_PATH\n",
    "\n",
    "with open(constants_file) as f:\n",
    "    constants = json.load(f)"
   ]
  },
  {
   "cell_type": "code",
   "execution_count": 12,
   "metadata": {},
   "outputs": [
    {
     "data": {
      "text/plain": [
       "{'db_file_paths': {'database': 'data/db_hcmut_full.json',\n",
       "  'dict': 'data/db_entity_official.json',\n",
       "  'user_goals': 'data/user_goal.json'},\n",
       " 'run': {'usersim': True,\n",
       "  'warmup_mem': 56,\n",
       "  'num_ep_run': 20000,\n",
       "  'train_freq': 100,\n",
       "  'max_round_num': 20,\n",
       "  'success_rate_threshold': 0.3},\n",
       " 'agent': {'save_weights_file_path': '',\n",
       "  'load_weights_file_path': '',\n",
       "  'vanilla': True,\n",
       "  'learning_rate': 0.001,\n",
       "  'batch_size': 128,\n",
       "  'dqn_hidden_size': 70,\n",
       "  'epsilon_init': 0.0,\n",
       "  'gamma': 0.9,\n",
       "  'max_mem_size': 10000},\n",
       " 'emc': {'slot_error_mode': 0,\n",
       "  'slot_error_prob': 0.05,\n",
       "  'intent_error_prob': 0.0}}"
      ]
     },
     "execution_count": 12,
     "metadata": {},
     "output_type": "execute_result"
    }
   ],
   "source": [
    "constants"
   ]
  },
  {
   "cell_type": "code",
   "execution_count": 18,
   "metadata": {},
   "outputs": [],
   "source": [
    "hidden_size = constants['agent']['dqn_hidden_size']\n",
    "lr = constants['agent']['learning_rate']\n",
    "state_size = 168\n",
    "num_actions = len(agent_actions)\n",
    "eps = constants['agent']['epsilon_init']"
   ]
  },
  {
   "cell_type": "code",
   "execution_count": 17,
   "metadata": {},
   "outputs": [],
   "source": [
    "def reset():\n",
    "    rule_current_slot_index = 0\n",
    "    rule_phase = 'not done'"
   ]
  },
  {
   "cell_type": "markdown",
   "metadata": {},
   "source": [
    "# Build Model"
   ]
  },
  {
   "cell_type": "code",
   "execution_count": 16,
   "metadata": {},
   "outputs": [],
   "source": [
    "def build_model():\n",
    "    model = Sequential()\n",
    "    model.add(Dense(hidden_size),input_dim=state_size,activation='relu')\n",
    "    model.add(Dense(num_actions,activation='linear'))\n",
    "    model.compile(loss='mse',optimizer=Adam(lr=lr))\n",
    "    return model"
   ]
  },
  {
   "cell_type": "markdown",
   "metadata": {},
   "source": [
    "# Policy có 2 loại là rule_action và dqn_action"
   ]
  },
  {
   "cell_type": "code",
   "execution_count": 39,
   "metadata": {},
   "outputs": [],
   "source": [
    "def get_action(state,use_rule=False):\n",
    "    if eps > random.random():\n",
    "        index = random.randint(0,num_actions-1)\n",
    "        action = agent_actions[index]\n",
    "        return index,action\n",
    "    else:\n",
    "        if use_rule:\n",
    "            return rule_action()\n",
    "        else:\n",
    "            return dqn_action(state)"
   ]
  },
  {
   "cell_type": "code",
   "execution_count": 40,
   "metadata": {},
   "outputs": [],
   "source": [
    "def rule_action():\n",
    "    if rule_current_slot_index < len(rule_requests):\n",
    "        slot = rule_requests[rule_current_slot_index]\n",
    "        rule_current_slot_index += 1\n",
    "        rule_response = {'intent': 'request', 'inform_slots': {}, 'request_slots': {slot: 'UNK'}}\n",
    "    elif rule_phase =='not done':\n",
    "        rule_response = {'intent': 'match_found', 'inform_slots': {}, 'request_slots': {}}\n",
    "        rule_phase = 'done'\n",
    "    elif rule_phase == 'done':\n",
    "        rule_response = {'intent': 'done', 'inform_slots': {}, 'request_slots': {}}\n",
    "    index = map_action_to_index(rule_response)\n",
    "    return index,rule_response"
   ]
  },
  {
   "cell_type": "code",
   "execution_count": 41,
   "metadata": {},
   "outputs": [],
   "source": [
    "def map_action_to_index(response):\n",
    "    for i,action in enumerate(agent_actions):\n",
    "        if response == action:\n",
    "            return i"
   ]
  },
  {
   "cell_type": "code",
   "execution_count": 42,
   "metadata": {},
   "outputs": [],
   "source": [
    "def dqn_action(state):\n",
    "    index = np.argmax(dqn_predict_one(state))\n",
    "    action = map_action_to_index(index)\n",
    "    return index,action"
   ]
  },
  {
   "cell_type": "code",
   "execution_count": 43,
   "metadata": {},
   "outputs": [],
   "source": [
    "def dqn_predict_one(state,target=False):\n",
    "    return dqn_predict(state.reshape(1,state_size),target=target).flatten()"
   ]
  },
  {
   "cell_type": "code",
   "execution_count": 46,
   "metadata": {},
   "outputs": [],
   "source": [
    "def dqn_predict(states,target=False):\n",
    "    if target:\n",
    "        return build_model.predict(states)\n",
    "    else:\n",
    "        return build_model.predict(states)"
   ]
  }
 ],
 "metadata": {
  "kernelspec": {
   "display_name": "Python [conda env:taindp] *",
   "language": "python",
   "name": "conda-env-taindp-py"
  },
  "language_info": {
   "codemirror_mode": {
    "name": "ipython",
    "version": 3
   },
   "file_extension": ".py",
   "mimetype": "text/x-python",
   "name": "python",
   "nbconvert_exporter": "python",
   "pygments_lexer": "ipython3",
   "version": "3.6.12"
  }
 },
 "nbformat": 4,
 "nbformat_minor": 4
}
