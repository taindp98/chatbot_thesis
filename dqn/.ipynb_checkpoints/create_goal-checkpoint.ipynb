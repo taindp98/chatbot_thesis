{
 "cells": [
  {
   "cell_type": "code",
   "execution_count": 1,
   "metadata": {},
   "outputs": [],
   "source": [
    "import json\n",
    "import random\n",
    "import uuid"
   ]
  },
  {
   "cell_type": "markdown",
   "metadata": {},
   "source": [
    "# Create goal by Database"
   ]
  },
  {
   "cell_type": "code",
   "execution_count": 2,
   "metadata": {},
   "outputs": [],
   "source": [
    "\n",
    "# def create_user_goal(ite_num_goal,db_path,rule_requests,slot_informs,slot_requests):\n",
    "#     list_goal = []\n",
    "#     for ite in range(ite_num_goal):\n",
    "#         db = json.load(open(db_path,'r'))\n",
    "#         for item in db:\n",
    "#             dict_goal = {}\n",
    "#             dict_goal['diaact'] = \"request\"\n",
    "#             num_req = random.randint(0,slot_requests)\n",
    "# #             num_req = 1\n",
    "            \n",
    "#             del item['_id']\n",
    "#             full_slot = list(item.keys())\n",
    "\n",
    "#             if num_req == 0:\n",
    "#                 dict_goal['request_slots'] = {}\n",
    "#                 dict_goal['inform_slots'] = {}\n",
    "#                 inf_slot = random.sample(full_slot,k=random.randint(1,slot_informs))\n",
    "# #                 inf_slot = full_slot\n",
    "    \n",
    "#                 for s in inf_slot:\n",
    "#                     if len(item[s]) > 1:\n",
    "#                         dict_goal['inform_slots'][s] = random.sample(item[s],random.randint(1,2))\n",
    "#                     else:\n",
    "#                         dict_goal['inform_slots'][s] = item[s]\n",
    "#         #     print(dict_goal)\n",
    "#             else:\n",
    "                \n",
    "#                 dict_goal['request_slots'] = {}\n",
    "#                 dict_goal['inform_slots'] = {}\n",
    "#                 for _ in range(num_req):\n",
    "#                     req_slot = random.sample(rule_requests,1)[0]\n",
    "\n",
    "#                     dict_goal['request_slots'][req_slot] = 'UNK'\n",
    "\n",
    "#                     inf_slot = random.sample(full_slot,k=random.randint(1,slot_informs))\n",
    "#     #                 full_slot.pop(full_slot.index(req_slot))\n",
    "#     #                 inf_slot = full_slot\n",
    "#     #                 print(inf_slot)\n",
    "#                     while req_slot in inf_slot:\n",
    "#                         inf_slot = random.sample(full_slot,k=random.randint(1,slot_informs))\n",
    "#                 for s in inf_slot:\n",
    "#                     if len(item[s]) > 1:\n",
    "#                         dict_goal['inform_slots'][s] = random.sample(item[s],random.randint(1,2))\n",
    "#                     else:\n",
    "#                         dict_goal['inform_slots'][s] = item[s]\n",
    "#             if dict_goal not in list_goal:\n",
    "#                 list_goal.append(dict_goal)\n",
    "#     return list_goal"
   ]
  },
  {
   "cell_type": "code",
   "execution_count": 3,
   "metadata": {},
   "outputs": [],
   "source": [
    "# db_path = 'data/db_hcmut_dqn_31dec.json'\n",
    "# # rule_requests = ['major_name', 'type_edu','subject','subject_group','point', 'year']\n",
    "# rule_requests = ['major_name', 'type_edu', 'career', 'subject','tuition', 'subject_group','satisfy', 'point','major_code','year']\n",
    "# slot_informs = len(rule_requests)\n",
    "# slot_requests = 2\n",
    "# my_goal = create_user_goal(5,db_path,rule_requests,slot_informs,slot_requests)\n",
    "# len(my_goal)"
   ]
  },
  {
   "cell_type": "code",
   "execution_count": 4,
   "metadata": {},
   "outputs": [],
   "source": [
    "# my_goal"
   ]
  },
  {
   "cell_type": "code",
   "execution_count": 5,
   "metadata": {},
   "outputs": [],
   "source": [
    "# fileout = open('data/goal_hcmut_%s_%s.json'% (slot_informs,slot_requests),'w')\n",
    "# item2str = str(my_goal).replace(r\"'\",r'\"')\n",
    "# fileout.write(item2str)"
   ]
  },
  {
   "cell_type": "markdown",
   "metadata": {},
   "source": [
    "# Create goal by entity"
   ]
  },
  {
   "cell_type": "code",
   "execution_count": 6,
   "metadata": {},
   "outputs": [],
   "source": [
    "# entity_path = '../data/db_entity_feb20.json'\n",
    "entity_path = '../data/db_entity_jan23.json'\n",
    "\n",
    "major_dict = json.load(open(entity_path,'r'))\n",
    "major_list = [major for major in list(major_dict[0].keys())]"
   ]
  },
  {
   "cell_type": "code",
   "execution_count": 7,
   "metadata": {},
   "outputs": [
    {
     "data": {
      "text/plain": [
       "['major_code',\n",
       " 'major_name',\n",
       " 'subject_group',\n",
       " 'point',\n",
       " 'type_edu',\n",
       " 'year',\n",
       " 'satisfy',\n",
       " 'subject',\n",
       " 'career',\n",
       " 'tuition']"
      ]
     },
     "execution_count": 7,
     "metadata": {},
     "output_type": "execute_result"
    }
   ],
   "source": [
    "major_list"
   ]
  },
  {
   "cell_type": "code",
   "execution_count": 8,
   "metadata": {},
   "outputs": [],
   "source": [
    "\n",
    "# print(activity_list)\n",
    "user_goal_list = []\n",
    "user_inform_list = []\n",
    "max_num_request_slot = 600\n",
    "# del major_list[major_list.index('_id')]\n",
    "for num_request_slot in range(max_num_request_slot + 1):\n",
    "    inform_dict = {}\n",
    "    db_dict = {}\n",
    "    request_slot = None\n",
    "    max_num_inform_slot = len(major_list)\n",
    "    if num_request_slot > 0:\n",
    "        request_slot = random.choice(major_list)\n",
    "        \n",
    "        max_num_inform_slot = len(major_list) - 1\n",
    "    \n",
    "\n",
    "    list_inform_slot = []\n",
    "    for _ in range(max_num_inform_slot):\n",
    "        inform_slot = random.choice(major_list)\n",
    "        \n",
    "        while inform_slot == request_slot or inform_slot in list_inform_slot:\n",
    "            inform_slot = random.choice(major_list)\n",
    "        list_inform_slot.append(inform_slot)\n",
    "        inform_dict[inform_slot]=[random.choice(major_dict[0][inform_slot])]\n",
    "        db_dict =inform_dict.copy()\n",
    "    if request_slot != None:\n",
    "        goal = {'request_slots':{request_slot:'UNK'},'diaact':'request','inform_slots':inform_dict}\n",
    "        if goal not in user_goal_list:\n",
    "            user_goal_list.append(goal)\n",
    "    else:\n",
    "        goal = {'request_slots':{},'diaact':'request','inform_slots':inform_dict}\n",
    "        if goal not in user_goal_list:\n",
    "            user_goal_list.append(goal)\n",
    "#     db_dict = inform_dict\n",
    "    db_dict['_id'] = str(uuid.uuid4())[:8]\n",
    "    if request_slot:\n",
    "        db_dict[request_slot] = [random.choice(major_dict[0][request_slot])]\n",
    "    user_inform_list.append(db_dict)"
   ]
  },
  {
   "cell_type": "code",
   "execution_count": 9,
   "metadata": {},
   "outputs": [
    {
     "data": {
      "text/plain": [
       "{'request_slots': {'major_code': 'UNK'},\n",
       " 'diaact': 'request',\n",
       " 'inform_slots': {'point': ['24.5'],\n",
       "  'career': ['đo vẽ bản đồ'],\n",
       "  'subject': ['vẽ hình họa mỹ thuật'],\n",
       "  'major_name': ['kỹ thuật cơ điện tử'],\n",
       "  'type_edu': ['phân hiệu bến tre'],\n",
       "  'year': ['2019'],\n",
       "  'subject_group': ['a'],\n",
       "  'satisfy': ['0.0'],\n",
       "  'tuition': ['1850000 việt nam đồng']}}"
      ]
     },
     "execution_count": 9,
     "metadata": {},
     "output_type": "execute_result"
    }
   ],
   "source": [
    "user_goal_list[1]"
   ]
  },
  {
   "cell_type": "code",
   "execution_count": 10,
   "metadata": {},
   "outputs": [
    {
     "data": {
      "text/plain": [
       "214588"
      ]
     },
     "execution_count": 10,
     "metadata": {},
     "output_type": "execute_result"
    }
   ],
   "source": [
    "# user_goal_list\n",
    "goal_out = open('../data/goal_hcmut_%s.json'% (max_num_request_slot),'w')\n",
    "item2str = str(user_goal_list).replace(r\"'\",r'\"')\n",
    "goal_out.write(item2str)"
   ]
  },
  {
   "cell_type": "code",
   "execution_count": 13,
   "metadata": {},
   "outputs": [
    {
     "data": {
      "text/plain": [
       "{'point': ['24.5'],\n",
       " 'career': ['đo vẽ bản đồ'],\n",
       " 'subject': ['vẽ hình họa mỹ thuật'],\n",
       " 'major_name': ['kỹ thuật cơ điện tử'],\n",
       " 'type_edu': ['phân hiệu bến tre'],\n",
       " 'year': ['2019'],\n",
       " 'subject_group': ['a'],\n",
       " 'satisfy': ['0.0'],\n",
       " 'tuition': ['1850000 việt nam đồng'],\n",
       " '_id': '085f1770-a4db-489a-9c41-cc4e5be7c2f0',\n",
       " 'major_code': ['245']}"
      ]
     },
     "execution_count": 13,
     "metadata": {},
     "output_type": "execute_result"
    }
   ],
   "source": [
    "user_inform_list[1]"
   ]
  },
  {
   "cell_type": "code",
   "execution_count": 12,
   "metadata": {},
   "outputs": [
    {
     "data": {
      "text/plain": [
       "215849"
      ]
     },
     "execution_count": 12,
     "metadata": {},
     "output_type": "execute_result"
    }
   ],
   "source": [
    "# user_inform_list\n",
    "db_out = open('../data/db_hcmut_%s.json'% (max_num_request_slot),'w')\n",
    "item2str = str(user_inform_list).replace(r\"'\",r'\"')\n",
    "db_out.write(item2str)"
   ]
  }
 ],
 "metadata": {
  "kernelspec": {
   "display_name": "fastai",
   "language": "python",
   "name": "fastai"
  },
  "language_info": {
   "codemirror_mode": {
    "name": "ipython",
    "version": 3
   },
   "file_extension": ".py",
   "mimetype": "text/x-python",
   "name": "python",
   "nbconvert_exporter": "python",
   "pygments_lexer": "ipython3",
   "version": "3.6.12"
  }
 },
 "nbformat": 4,
 "nbformat_minor": 4
}
