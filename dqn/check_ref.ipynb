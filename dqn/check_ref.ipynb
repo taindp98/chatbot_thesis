{
 "cells": [
  {
   "cell_type": "code",
   "execution_count": 1,
   "metadata": {},
   "outputs": [],
   "source": [
    "import json\n",
    "import pickle\n",
    "import pandas as pd\n",
    "import os"
   ]
  },
  {
   "cell_type": "code",
   "execution_count": 2,
   "metadata": {},
   "outputs": [],
   "source": [
    "path_ref = '/home/taindp/Jupyter/reference/CSEAssistantServer/temp_data'"
   ]
  },
  {
   "cell_type": "code",
   "execution_count": 3,
   "metadata": {},
   "outputs": [],
   "source": [
    "db_check = json.load(open(os.path.join(path_ref,'real_db_494.json'),'r'))"
   ]
  },
  {
   "cell_type": "code",
   "execution_count": 4,
   "metadata": {},
   "outputs": [
    {
     "data": {
      "text/plain": [
       "494"
      ]
     },
     "execution_count": 4,
     "metadata": {},
     "output_type": "execute_result"
    }
   ],
   "source": [
    "# df_db = pd.DataFrame(db_check)\n",
    "# df_db.head(1)\n",
    "len(db_check)"
   ]
  },
  {
   "cell_type": "code",
   "execution_count": 53,
   "metadata": {},
   "outputs": [
    {
     "data": {
      "text/plain": [
       "True"
      ]
     },
     "execution_count": 53,
     "metadata": {},
     "output_type": "execute_result"
    }
   ],
   "source": [
    "len(df_db['_id']) == len(list(set(df_db['_id'])))"
   ]
  },
  {
   "cell_type": "code",
   "execution_count": 34,
   "metadata": {},
   "outputs": [],
   "source": [
    "goal_check = json.load(open(os.path.join(path_ref,'activity_user_goals_full_slots_multi_req_slots_800.json'),'r'))"
   ]
  },
  {
   "cell_type": "code",
   "execution_count": 23,
   "metadata": {},
   "outputs": [],
   "source": [
    "# for index,item in enumerate(goal_check):\n",
    "#     if item['request_slots']:\n",
    "#         print(index)"
   ]
  },
  {
   "cell_type": "code",
   "execution_count": 51,
   "metadata": {},
   "outputs": [
    {
     "data": {
      "text/plain": [
       "{'request_slots': {},\n",
       " 'diaact': 'request',\n",
       " 'inform_slots': {'district': ['bình thạnh', 'hải châu'],\n",
       "  'street': ['3 nguyễn tất thành', '3 nguyễn tất thành'],\n",
       "  'reward': ['tận hưởng những phút giây thư giãn'],\n",
       "  'time': ['từ ngày 05/03/2019', '9h sáng'],\n",
       "  'name_activity': ['connection'],\n",
       "  'ward': ['phường 10', 'tân an'],\n",
       "  'name_place': ['trường tiểu học tân trung 1', 'trường tiểu học tân trung 1'],\n",
       "  'type_activity': ['họp định kỳ'],\n",
       "  'register': ['link đăng ký :'],\n",
       "  'joiner': ['chưa từng mắc bệnh tim'],\n",
       "  'holder': ['hãng phim việt', 'câu lạc bộ gia sư'],\n",
       "  'contact': ['đội trưởng nguyễn quang hải'],\n",
       "  'city': ['hà nam', 'bình thuận'],\n",
       "  'works': ['sơn cửa']}}"
      ]
     },
     "execution_count": 51,
     "metadata": {},
     "output_type": "execute_result"
    }
   ],
   "source": [
    "goal_check[0]"
   ]
  },
  {
   "cell_type": "code",
   "execution_count": 28,
   "metadata": {},
   "outputs": [
    {
     "data": {
      "text/plain": [
       "name_activity                                        [mùa hè xanh]\n",
       "type_activity                                   [buổi họp đầu năm]\n",
       "holder                                       [ban công tác xã hội]\n",
       "time                                              [ngày 24/3/2019]\n",
       "city                                                  [tiền giang]\n",
       "district                                             [bắc từ liêm]\n",
       "ward                                                     [an bình]\n",
       "name_place                                  [trước cổng ktx khu a]\n",
       "street                                          [lý thường kiệt 2]\n",
       "reward                                     [3 phần quà ngẫu nhiên]\n",
       "contact                                            [phạm văn mách]\n",
       "register                [điền vào form sau: , điền vào form sau: ]\n",
       "works                                              [phụ làm đường]\n",
       "joiner           [sinh viên bách khoa năm nhất, tình nguyện viê...\n",
       "_id                                                        5406527\n",
       "Name: 128, dtype: object"
      ]
     },
     "execution_count": 28,
     "metadata": {},
     "output_type": "execute_result"
    }
   ],
   "source": [
    "df_db.iloc[128]"
   ]
  },
  {
   "cell_type": "code",
   "execution_count": 31,
   "metadata": {},
   "outputs": [
    {
     "data": {
      "text/plain": [
       "name_activity                                      [kms tour 2019]\n",
       "type_activity                                          [lễ ra mắt]\n",
       "holder                                    [đội sinh viên làm ctxh]\n",
       "time                                     [17h30 , thứ 4 hàng tuần]\n",
       "city                                                 [hồ chí minh]\n",
       "district                                                  [quận 3]\n",
       "ward                                                [thới an đông]\n",
       "name_place                          [trung tâm thiếu niên quận 10]\n",
       "street                                                [đường số 3]\n",
       "reward                           [các anh chị chia sẻ kinh nghiệm]\n",
       "contact                           [trưởng btc hoàng hải, tấn sinh]\n",
       "register                                        [đăng ký ngay tại]\n",
       "works                                        [nấu cháo, làm đường]\n",
       "joiner           [sinh viên bách khoa năm nhất, tình nguyện viê...\n",
       "_id                                                        6907564\n",
       "Name: 88, dtype: object"
      ]
     },
     "execution_count": 31,
     "metadata": {},
     "output_type": "execute_result"
    }
   ],
   "source": [
    "df_db.iloc[88]"
   ]
  },
  {
   "cell_type": "code",
   "execution_count": 30,
   "metadata": {},
   "outputs": [
    {
     "data": {
      "text/plain": [
       "name_activity                                      [kms tour 2019]\n",
       "type_activity                                       [buổi tọa đàm]\n",
       "holder                                       [ban công tác xã hội]\n",
       "time                                     [17h30 , thứ 4 hàng tuần]\n",
       "city                                                    [đồng nai]\n",
       "district                                                   [dĩ an]\n",
       "ward                                                   [thới bình]\n",
       "name_place                          [trung tâm thiếu niên quận 10]\n",
       "street                                               [nguyễn trãi]\n",
       "reward                           [các anh chị chia sẻ kinh nghiệm]\n",
       "contact                           [trưởng btc hoàng hải, tấn sinh]\n",
       "register                                        [đăng ký ngay tại]\n",
       "works                                        [nấu cháo, làm đường]\n",
       "joiner           [sinh viên bách khoa năm nhất, tình nguyện viê...\n",
       "_id                                                        3444762\n",
       "Name: 344, dtype: object"
      ]
     },
     "execution_count": 30,
     "metadata": {},
     "output_type": "execute_result"
    }
   ],
   "source": [
    "df_db.iloc[344]"
   ]
  },
  {
   "cell_type": "code",
   "execution_count": 26,
   "metadata": {},
   "outputs": [
    {
     "name": "stdout",
     "output_type": "stream",
     "text": [
      "88\n",
      "128\n",
      "185\n",
      "344\n",
      "384\n",
      "441\n",
      "600\n",
      "640\n",
      "697\n",
      "856\n",
      "896\n",
      "953\n",
      "1112\n",
      "1152\n",
      "1209\n"
     ]
    }
   ],
   "source": [
    "for index,item in enumerate(list(df_db['joiner'])):\n",
    "    if item == ['sinh viên bách khoa năm nhất','tình nguyện viên mùa hè xanh']:\n",
    "        print(index)"
   ]
  }
 ],
 "metadata": {
  "kernelspec": {
   "display_name": "fastai",
   "language": "python",
   "name": "fastai"
  },
  "language_info": {
   "codemirror_mode": {
    "name": "ipython",
    "version": 3
   },
   "file_extension": ".py",
   "mimetype": "text/x-python",
   "name": "python",
   "nbconvert_exporter": "python",
   "pygments_lexer": "ipython3",
   "version": "3.6.12"
  }
 },
 "nbformat": 4,
 "nbformat_minor": 4
}
