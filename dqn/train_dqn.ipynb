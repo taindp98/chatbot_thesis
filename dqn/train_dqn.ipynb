{
 "cells": [
  {
   "cell_type": "code",
   "execution_count": 7,
   "metadata": {
    "colab": {
     "base_uri": "https://localhost:8080/"
    },
    "executionInfo": {
     "elapsed": 22700,
     "status": "ok",
     "timestamp": 1606202473481,
     "user": {
      "displayName": "Tai Nguyen",
      "photoUrl": "https://lh3.googleusercontent.com/a-/AOh14GgSxoywFDHJGfnox9fCFqAY1AQP9LOTTIEWMfp7=s64",
      "userId": "06617934336246210574"
     },
     "user_tz": -420
    },
    "id": "XU0rdu6qNJXX",
    "outputId": "2bf876bf-35b7-4287-df33-688d3e330548"
   },
   "outputs": [],
   "source": [
    "# from google.colab import drive\n",
    "# drive.mount('/content/drive')\n",
    "import json\n",
    "import sys"
   ]
  },
  {
   "cell_type": "code",
   "execution_count": 10,
   "metadata": {},
   "outputs": [],
   "source": [
    "sys.path.append('/home/taindp/PycharmProjects/thesis/dqn')"
   ]
  },
  {
   "cell_type": "code",
   "execution_count": 1,
   "metadata": {},
   "outputs": [
    {
     "data": {
      "text/plain": [
       "'/home/taindp/PycharmProjects/thesis/dqn'"
      ]
     },
     "execution_count": 1,
     "metadata": {},
     "output_type": "execute_result"
    }
   ],
   "source": [
    "%pwd"
   ]
  },
  {
   "cell_type": "code",
   "execution_count": 11,
   "metadata": {
    "colab": {
     "base_uri": "https://localhost:8080/"
    },
    "executionInfo": {
     "elapsed": 23174,
     "status": "ok",
     "timestamp": 1606202473973,
     "user": {
      "displayName": "Tai Nguyen",
      "photoUrl": "https://lh3.googleusercontent.com/a-/AOh14GgSxoywFDHJGfnox9fCFqAY1AQP9LOTTIEWMfp7=s64",
      "userId": "06617934336246210574"
     },
     "user_tz": -420
    },
    "id": "VhIUs_-NVCPj",
    "outputId": "330e0ffc-d4d6-47e3-9c43-b86519c5eb2b",
    "scrolled": true
   },
   "outputs": [
    {
     "name": "stdout",
     "output_type": "stream",
     "text": [
      "/home/taindp/PycharmProjects/thesis/dqn\n",
      "check.ipynb\t\t   LICENSE\t\ttrain.py\r\n",
      "constants.json\t\t   log3.txt\t\tuserold.py\r\n",
      "create_goal.ipynb\t   pickle_converter.py\tuser.py\r\n",
      "db_query.py\t\t   __pycache__\t\tuser_simulator.py\r\n",
      "dialogue_config.py\t   state_tracker.py\tutils.py\r\n",
      "dqn_agent.py\t\t   test.py\t\tweight\r\n",
      "error_model_controller.py  train_dqn.ipynb\r\n"
     ]
    }
   ],
   "source": [
    "# %cd /content/drive/My\\ Drive/DQN\n",
    "# FOLDER_PATH = '/home/taindp/Jupyter/custom_dqn'\n",
    "# FOLDER_PATH = '/home/taindp/PycharmProjects/thesis/dqn'\n",
    "FOLDER_PATH = %pwd\n",
    "# FOLDER_PATH = '/home/waves8/taindp/deep_q_learning'\n",
    "CONSTANTS_FILE_PATH = f'{FOLDER_PATH}/constants.json'\n",
    "# SAVE_WEIGHT_PATH =f'weight/goal400_10.h5'\n",
    "%cd $FOLDER_PATH\n",
    "!ls"
   ]
  },
  {
   "cell_type": "code",
   "execution_count": 12,
   "metadata": {
    "executionInfo": {
     "elapsed": 28082,
     "status": "ok",
     "timestamp": 1606202478884,
     "user": {
      "displayName": "Tai Nguyen",
      "photoUrl": "https://lh3.googleusercontent.com/a-/AOh14GgSxoywFDHJGfnox9fCFqAY1AQP9LOTTIEWMfp7=s64",
      "userId": "06617934336246210574"
     },
     "user_tz": -420
    },
    "id": "w9-ptvW7nod7"
   },
   "outputs": [
    {
     "name": "stdout",
     "output_type": "stream",
     "text": [
      "The autoreload extension is already loaded. To reload it, use:\n",
      "  %reload_ext autoreload\n"
     ]
    },
    {
     "ename": "ModuleNotFoundError",
     "evalue": "No module named 'dqn'",
     "output_type": "error",
     "traceback": [
      "\u001b[0;31m---------------------------------------------------------------------------\u001b[0m",
      "\u001b[0;31mModuleNotFoundError\u001b[0m                       Traceback (most recent call last)",
      "\u001b[0;32m<ipython-input-12-8e0dcfcbfec8>\u001b[0m in \u001b[0;36m<module>\u001b[0;34m()\u001b[0m\n\u001b[1;32m      1\u001b[0m \u001b[0mget_ipython\u001b[0m\u001b[0;34m(\u001b[0m\u001b[0;34m)\u001b[0m\u001b[0;34m.\u001b[0m\u001b[0mmagic\u001b[0m\u001b[0;34m(\u001b[0m\u001b[0;34m'load_ext autoreload'\u001b[0m\u001b[0;34m)\u001b[0m\u001b[0;34m\u001b[0m\u001b[0;34m\u001b[0m\u001b[0m\n\u001b[1;32m      2\u001b[0m \u001b[0mget_ipython\u001b[0m\u001b[0;34m(\u001b[0m\u001b[0;34m)\u001b[0m\u001b[0;34m.\u001b[0m\u001b[0mmagic\u001b[0m\u001b[0;34m(\u001b[0m\u001b[0;34m'autoreload 2'\u001b[0m\u001b[0;34m)\u001b[0m\u001b[0;34m\u001b[0m\u001b[0;34m\u001b[0m\u001b[0m\n\u001b[0;32m----> 3\u001b[0;31m \u001b[0;32mfrom\u001b[0m \u001b[0muser_simulator\u001b[0m \u001b[0;32mimport\u001b[0m \u001b[0mUserSimulator\u001b[0m\u001b[0;34m\u001b[0m\u001b[0;34m\u001b[0m\u001b[0m\n\u001b[0m\u001b[1;32m      4\u001b[0m \u001b[0;32mfrom\u001b[0m \u001b[0merror_model_controller\u001b[0m \u001b[0;32mimport\u001b[0m \u001b[0mErrorModelController\u001b[0m\u001b[0;34m\u001b[0m\u001b[0;34m\u001b[0m\u001b[0m\n\u001b[1;32m      5\u001b[0m \u001b[0;32mfrom\u001b[0m \u001b[0mdqn_agent\u001b[0m \u001b[0;32mimport\u001b[0m \u001b[0mDQNAgent\u001b[0m\u001b[0;34m\u001b[0m\u001b[0;34m\u001b[0m\u001b[0m\n",
      "\u001b[0;32m/home/taindp/PycharmProjects/thesis/dqn/user_simulator.py\u001b[0m in \u001b[0;36m<module>\u001b[0;34m()\u001b[0m\n\u001b[0;32m----> 1\u001b[0;31m \u001b[0;32mfrom\u001b[0m \u001b[0mdqn\u001b[0m\u001b[0;34m.\u001b[0m\u001b[0mdialogue_config\u001b[0m \u001b[0;32mimport\u001b[0m \u001b[0musersim_default_key\u001b[0m\u001b[0;34m,\u001b[0m \u001b[0mFAIL\u001b[0m\u001b[0;34m,\u001b[0m \u001b[0mNO_OUTCOME\u001b[0m\u001b[0;34m,\u001b[0m \u001b[0mSUCCESS\u001b[0m\u001b[0;34m,\u001b[0m\u001b[0mUNSUITABLE\u001b[0m\u001b[0;34m,\u001b[0m \u001b[0musersim_required_init_inform_keys\u001b[0m\u001b[0;34m,\u001b[0m\u001b[0;31m \u001b[0m\u001b[0;31m\\\u001b[0m\u001b[0;34m\u001b[0m\u001b[0;34m\u001b[0m\u001b[0m\n\u001b[0m\u001b[1;32m      2\u001b[0m     \u001b[0mno_query_keys\u001b[0m\u001b[0;34m\u001b[0m\u001b[0;34m\u001b[0m\u001b[0m\n\u001b[1;32m      3\u001b[0m \u001b[0;32mfrom\u001b[0m \u001b[0mdqn\u001b[0m\u001b[0;34m.\u001b[0m\u001b[0mutils\u001b[0m \u001b[0;32mimport\u001b[0m \u001b[0mreward_function\u001b[0m\u001b[0;34m\u001b[0m\u001b[0;34m\u001b[0m\u001b[0m\n\u001b[1;32m      4\u001b[0m \u001b[0;32mimport\u001b[0m \u001b[0mrandom\u001b[0m\u001b[0;34m,\u001b[0m \u001b[0mcopy\u001b[0m\u001b[0;34m\u001b[0m\u001b[0;34m\u001b[0m\u001b[0m\n\u001b[1;32m      5\u001b[0m \u001b[0;34m\u001b[0m\u001b[0m\n",
      "\u001b[0;31mModuleNotFoundError\u001b[0m: No module named 'dqn'"
     ]
    }
   ],
   "source": [
    "%load_ext autoreload\n",
    "%autoreload 2\n",
    "from user_simulator import UserSimulator\n",
    "from error_model_controller import ErrorModelController\n",
    "from dqn_agent import DQNAgent\n",
    "# from dqn_agent import get_action\n",
    "from state_tracker import StateTracker\n",
    "import pickle, argparse, json, math\n",
    "from utils import remove_empty_slots\n",
    "from user import User\n",
    "import time\n",
    "import json\n",
    "from tqdm import tqdm\n",
    "from db_query import DBQuery\n",
    "from datetime import date\n",
    "today = str(date.today().strftime(\"%d/%m/%Y\")).replace(r'/',r'_')"
   ]
  },
  {
   "cell_type": "code",
   "execution_count": 4,
   "metadata": {
    "executionInfo": {
     "elapsed": 28089,
     "status": "ok",
     "timestamp": 1606202478893,
     "user": {
      "displayName": "Tai Nguyen",
      "photoUrl": "https://lh3.googleusercontent.com/a-/AOh14GgSxoywFDHJGfnox9fCFqAY1AQP9LOTTIEWMfp7=s64",
      "userId": "06617934336246210574"
     },
     "user_tz": -420
    },
    "id": "8JPWNbdSn1hd"
   },
   "outputs": [],
   "source": [
    "def run_round(state, warmup=False):\n",
    "    # 1) Agent takes action given state tracker's representation of dialogue (state)\n",
    "    agent_action_index, agent_action = dqn_agent.get_action(state, use_rule=warmup)\n",
    "#     print('agent_action_index',agent_action_index)\n",
    "#     print('agent_action',agent_action)\n",
    "    # 2) Update state tracker with the agent's action\n",
    "    state_tracker.update_state_agent(agent_action)\n",
    "#     print('current round',agent_action['round'])\n",
    "    # 3) User takes action given agent action\n",
    "    user_action, reward, done, success = user.step(agent_action)\n",
    "#     print('user_action',user_action)\n",
    "#     print('reward',reward)\n",
    "#     print('done',done)\n",
    "#     print('success',success)\n",
    "    if not done:\n",
    "        # 4) Infuse error into semantic frame level of user action\n",
    "        emc.infuse_error(user_action)\n",
    "#         print('user_action emc',user_action)\n",
    "    # 5) Update state tracker with user action\n",
    "    state_tracker.update_state_user(user_action)\n",
    "#     print('update_state_user',user_action)\n",
    "    # 6) Get next state and add experience\n",
    "    next_state = state_tracker.get_state(done)\n",
    "#     print('next_state',next_state)\n",
    "    dqn_agent.add_experience(state, agent_action_index, reward, next_state, done)\n",
    "    return next_state, reward, done, success\n",
    "\n",
    "\n",
    "def warmup_run():\n",
    "    \"\"\"\n",
    "    Runs the warmup stage of training which is used to fill the agents memory.\n",
    "\n",
    "    The agent uses it's rule-based policy to make actions. The agent's memory is filled as this runs.\n",
    "    Loop terminates when the size of the memory is equal to WARMUP_MEM or when the memory buffer is full.\n",
    "\n",
    "    \"\"\"\n",
    "\n",
    "    print('Warmup Started...')\n",
    "    total_step = 0\n",
    "    with tqdm(total=1) as pbar:\n",
    "        while total_step != WARMUP_MEM and not dqn_agent.is_memory_full():\n",
    "            # Reset episode\n",
    "            episode_reset()\n",
    "            done = False\n",
    "            # Get initial state from state tracker\n",
    "            state = state_tracker.get_state()\n",
    "            # print('State warmup', state)\n",
    "            # print('Type state',type(state))\n",
    "            while not done:\n",
    "                next_state, _, done, _ = run_round(state, warmup=True)\n",
    "#                 next_state, _, done, _ = run_round(state)\n",
    "                total_step += 1\n",
    "                state = next_state\n",
    "            # print(total_step)\n",
    "            # time.sleep(1)\n",
    "            pbar.update(1)\n",
    "    print('...Warmup Ended')\n",
    "\n",
    "\n",
    "def train_run():\n",
    "    \"\"\"\n",
    "    Runs the loop that trains the agent.\n",
    "\n",
    "    Trains the agent on the goal-oriented chatbot task. Training of the agent's neural network occurs every episode that\n",
    "    TRAIN_FREQ is a multiple of. Terminates when the episode reaches NUM_EP_TRAIN.\n",
    "\n",
    "    \"\"\"\n",
    "\n",
    "    print('Training Started...')\n",
    "    episode = 0\n",
    "    period_reward_total = 0\n",
    "    period_success_total = 0\n",
    "    success_rate_best = 0.6\n",
    "    # with tqdm(total=NUM_EP_TRAIN) as pbar1:\n",
    "    while episode < NUM_EP_TRAIN:\n",
    "        episode_reset()\n",
    "        episode += 1\n",
    "#         print('Current episode:',episode)\n",
    "        done = False\n",
    "        state = state_tracker.get_state()\n",
    "        # print('Current state',state)\n",
    "        while not done:\n",
    "            next_state, reward, done, success = run_round(state)\n",
    "            # print('Next state',next_state)\n",
    "#             print('Reward', reward)\n",
    "#             print('Done',done)\n",
    "            period_reward_total += reward\n",
    "            state = next_state\n",
    "#         print(\"success :{0}\".format(success))\n",
    "\n",
    "        period_success_total += success\n",
    "        # print('period_success_total',period_success_total)\n",
    "        # Train\n",
    "        if episode % TRAIN_FREQ == 0:\n",
    "            print('Current episode:',episode)\n",
    "            # Check success rate\n",
    "            success_rate = period_success_total / TRAIN_FREQ\n",
    "            avg_reward = period_reward_total / TRAIN_FREQ\n",
    "            print(\"episode {0}: success rate: {1}\".format(episode, success_rate))\n",
    "\n",
    "            # Flush\n",
    "            if success_rate >= success_rate_best and success_rate >= SUCCESS_RATE_THRESHOLD:\n",
    "                dqn_agent.empty_memory()\n",
    "            # Update current best success rate\n",
    "            if success_rate >= success_rate_best:\n",
    "                print('Episode: {} NEW BEST SUCCESS RATE: {} Avg Reward: {}' .format(episode, success_rate, avg_reward))\n",
    "                success_rate_best = success_rate\n",
    "                dqn_agent.save_weights()\n",
    "            period_success_total = 0\n",
    "            period_reward_total = 0\n",
    "            # Copy\n",
    "            dqn_agent.copy()\n",
    "            # Train\n",
    "            dqn_agent.train()\n",
    "          # pbar1.update(1)\n",
    "    print('...Training Ended')\n",
    "\n",
    "\n",
    "def episode_reset():\n",
    "    \"\"\"\n",
    "    Resets the episode/conversation in the warmup and training loops.\n",
    "\n",
    "    Called in warmup and train to reset the state tracker, user and agent. Also get's the initial user action.\n",
    "\n",
    "    \"\"\"\n",
    "\n",
    "    # First reset the state tracker\n",
    "    state_tracker.reset()\n",
    "    # Then pick an init user action\n",
    "    user_action = user.reset()\n",
    "    # Infuse with error\n",
    "    emc.infuse_error(user_action)\n",
    "    # And update state tracker\n",
    "    state_tracker.update_state_user(user_action)\n",
    "    # Finally, reset agent\n",
    "    dqn_agent.reset()"
   ]
  },
  {
   "cell_type": "code",
   "execution_count": 5,
   "metadata": {
    "executionInfo": {
     "elapsed": 28453,
     "status": "ok",
     "timestamp": 1606202479260,
     "user": {
      "displayName": "Tai Nguyen",
      "photoUrl": "https://lh3.googleusercontent.com/a-/AOh14GgSxoywFDHJGfnox9fCFqAY1AQP9LOTTIEWMfp7=s64",
      "userId": "06617934336246210574"
     },
     "user_tz": -420
    },
    "id": "l5TwlCqPslsV"
   },
   "outputs": [
    {
     "ename": "NameError",
     "evalue": "name 'json' is not defined",
     "output_type": "error",
     "traceback": [
      "\u001b[0;31m---------------------------------------------------------------------------\u001b[0m",
      "\u001b[0;31mNameError\u001b[0m                                 Traceback (most recent call last)",
      "\u001b[0;32m<ipython-input-5-29570c8542dc>\u001b[0m in \u001b[0;36m<module>\u001b[0;34m()\u001b[0m\n\u001b[1;32m      2\u001b[0m \u001b[0;34m\u001b[0m\u001b[0m\n\u001b[1;32m      3\u001b[0m \u001b[0;32mwith\u001b[0m \u001b[0mopen\u001b[0m\u001b[0;34m(\u001b[0m\u001b[0mconstants_file\u001b[0m\u001b[0;34m)\u001b[0m \u001b[0;32mas\u001b[0m \u001b[0mf\u001b[0m\u001b[0;34m:\u001b[0m\u001b[0;34m\u001b[0m\u001b[0;34m\u001b[0m\u001b[0m\n\u001b[0;32m----> 4\u001b[0;31m     \u001b[0mconstants\u001b[0m \u001b[0;34m=\u001b[0m \u001b[0mjson\u001b[0m\u001b[0;34m.\u001b[0m\u001b[0mload\u001b[0m\u001b[0;34m(\u001b[0m\u001b[0mf\u001b[0m\u001b[0;34m)\u001b[0m\u001b[0;34m\u001b[0m\u001b[0;34m\u001b[0m\u001b[0m\n\u001b[0m",
      "\u001b[0;31mNameError\u001b[0m: name 'json' is not defined"
     ]
    }
   ],
   "source": [
    "constants_file = CONSTANTS_FILE_PATH\n",
    "\n",
    "with open(constants_file) as f:\n",
    "    constants = json.load(f)"
   ]
  },
  {
   "cell_type": "code",
   "execution_count": null,
   "metadata": {
    "colab": {
     "base_uri": "https://localhost:8080/"
    },
    "executionInfo": {
     "elapsed": 28442,
     "status": "ok",
     "timestamp": 1606202479261,
     "user": {
      "displayName": "Tai Nguyen",
      "photoUrl": "https://lh3.googleusercontent.com/a-/AOh14GgSxoywFDHJGfnox9fCFqAY1AQP9LOTTIEWMfp7=s64",
      "userId": "06617934336246210574"
     },
     "user_tz": -420
    },
    "id": "dR3gWABKngqX",
    "outputId": "187fcd89-0753-4901-aa70-2f9d7f0c61d9"
   },
   "outputs": [],
   "source": [
    "constants"
   ]
  },
  {
   "cell_type": "code",
   "execution_count": null,
   "metadata": {
    "executionInfo": {
     "elapsed": 28441,
     "status": "ok",
     "timestamp": 1606202479266,
     "user": {
      "displayName": "Tai Nguyen",
      "photoUrl": "https://lh3.googleusercontent.com/a-/AOh14GgSxoywFDHJGfnox9fCFqAY1AQP9LOTTIEWMfp7=s64",
      "userId": "06617934336246210574"
     },
     "user_tz": -420
    },
    "id": "14wUoSERt7tU"
   },
   "outputs": [],
   "source": [
    "# Load file path constants\n",
    "file_path_dict = constants['db_file_paths']\n",
    "DATABASE_FILE_PATH = file_path_dict['database']\n",
    "DICT_FILE_PATH = file_path_dict['dict']\n",
    "USER_GOALS_FILE_PATH = file_path_dict['user_goals']"
   ]
  },
  {
   "cell_type": "code",
   "execution_count": null,
   "metadata": {
    "executionInfo": {
     "elapsed": 28440,
     "status": "ok",
     "timestamp": 1606202479267,
     "user": {
      "displayName": "Tai Nguyen",
      "photoUrl": "https://lh3.googleusercontent.com/a-/AOh14GgSxoywFDHJGfnox9fCFqAY1AQP9LOTTIEWMfp7=s64",
      "userId": "06617934336246210574"
     },
     "user_tz": -420
    },
    "id": "DxCHDrf8uBrV"
   },
   "outputs": [],
   "source": [
    "run_dict = constants['run']\n",
    "USE_USERSIM = run_dict['usersim']\n",
    "WARMUP_MEM = run_dict['warmup_mem']\n",
    "NUM_EP_TRAIN = run_dict['num_ep_run']\n",
    "TRAIN_FREQ = run_dict['train_freq']\n",
    "MAX_ROUND_NUM = run_dict['max_round_num']\n",
    "SUCCESS_RATE_THRESHOLD = run_dict['success_rate_threshold']"
   ]
  },
  {
   "cell_type": "code",
   "execution_count": null,
   "metadata": {
    "colab": {
     "base_uri": "https://localhost:8080/"
    },
    "executionInfo": {
     "elapsed": 28430,
     "status": "ok",
     "timestamp": 1606202479269,
     "user": {
      "displayName": "Tai Nguyen",
      "photoUrl": "https://lh3.googleusercontent.com/a-/AOh14GgSxoywFDHJGfnox9fCFqAY1AQP9LOTTIEWMfp7=s64",
      "userId": "06617934336246210574"
     },
     "user_tz": -420
    },
    "id": "KLj2x93axohl",
    "outputId": "7830c940-76f4-419e-a0bb-3016124007e9"
   },
   "outputs": [],
   "source": [
    "WARMUP_MEM"
   ]
  },
  {
   "cell_type": "code",
   "execution_count": null,
   "metadata": {
    "colab": {
     "base_uri": "https://localhost:8080/"
    },
    "executionInfo": {
     "elapsed": 28419,
     "status": "ok",
     "timestamp": 1606202479270,
     "user": {
      "displayName": "Tai Nguyen",
      "photoUrl": "https://lh3.googleusercontent.com/a-/AOh14GgSxoywFDHJGfnox9fCFqAY1AQP9LOTTIEWMfp7=s64",
      "userId": "06617934336246210574"
     },
     "user_tz": -420
    },
    "id": "ys6OQul_v8Ii",
    "outputId": "3b1dce79-ab74-4192-f6c4-33a1c2be09bf"
   },
   "outputs": [],
   "source": [
    "NUM_EP_TRAIN"
   ]
  },
  {
   "cell_type": "code",
   "execution_count": null,
   "metadata": {},
   "outputs": [],
   "source": [
    "constants['agent']['save_weights_file_path'] = '/home/taindp/PycharmProjects/thesis/dqn/weight/' + str(today)+ '_' +str(NUM_EP_TRAIN)+ '_'+str(TRAIN_FREQ)+'_'+str(MAX_ROUND_NUM) + '.h5'"
   ]
  },
  {
   "cell_type": "code",
   "execution_count": null,
   "metadata": {},
   "outputs": [],
   "source": [
    "# constants"
   ]
  },
  {
   "cell_type": "code",
   "execution_count": null,
   "metadata": {
    "executionInfo": {
     "elapsed": 29429,
     "status": "ok",
     "timestamp": 1606202480282,
     "user": {
      "displayName": "Tai Nguyen",
      "photoUrl": "https://lh3.googleusercontent.com/a-/AOh14GgSxoywFDHJGfnox9fCFqAY1AQP9LOTTIEWMfp7=s64",
      "userId": "06617934336246210574"
     },
     "user_tz": -420
    },
    "id": "_Uuhy6LiwAYN"
   },
   "outputs": [],
   "source": [
    "database= json.load(open(DATABASE_FILE_PATH,encoding='utf-8'))"
   ]
  },
  {
   "cell_type": "code",
   "execution_count": null,
   "metadata": {
    "executionInfo": {
     "elapsed": 29835,
     "status": "ok",
     "timestamp": 1606202480691,
     "user": {
      "displayName": "Tai Nguyen",
      "photoUrl": "https://lh3.googleusercontent.com/a-/AOh14GgSxoywFDHJGfnox9fCFqAY1AQP9LOTTIEWMfp7=s64",
      "userId": "06617934336246210574"
     },
     "user_tz": -420
    },
    "id": "r-4jdSuswBW-"
   },
   "outputs": [],
   "source": [
    "db_dict = json.load(open(DICT_FILE_PATH,encoding='utf-8'))[0]"
   ]
  },
  {
   "cell_type": "code",
   "execution_count": null,
   "metadata": {
    "executionInfo": {
     "elapsed": 30233,
     "status": "ok",
     "timestamp": 1606202481092,
     "user": {
      "displayName": "Tai Nguyen",
      "photoUrl": "https://lh3.googleusercontent.com/a-/AOh14GgSxoywFDHJGfnox9fCFqAY1AQP9LOTTIEWMfp7=s64",
      "userId": "06617934336246210574"
     },
     "user_tz": -420
    },
    "id": "n5DTvouUwQJ6",
    "scrolled": true
   },
   "outputs": [],
   "source": [
    "user_goals = json.load(open(USER_GOALS_FILE_PATH,encoding='utf-8'))"
   ]
  },
  {
   "cell_type": "code",
   "execution_count": null,
   "metadata": {
    "executionInfo": {
     "elapsed": 30688,
     "status": "ok",
     "timestamp": 1606202481550,
     "user": {
      "displayName": "Tai Nguyen",
      "photoUrl": "https://lh3.googleusercontent.com/a-/AOh14GgSxoywFDHJGfnox9fCFqAY1AQP9LOTTIEWMfp7=s64",
      "userId": "06617934336246210574"
     },
     "user_tz": -420
    },
    "id": "qCCjhhV8sY6A"
   },
   "outputs": [],
   "source": [
    "if USE_USERSIM:\n",
    "    user = UserSimulator(user_goals, constants, database)\n",
    "else:\n",
    "    user = User(constants)\n",
    "emc = ErrorModelController(db_dict, constants)\n",
    "state_tracker = StateTracker(database, constants)\n",
    "dqn_agent = DQNAgent(state_tracker.get_state_size(), constants)"
   ]
  },
  {
   "cell_type": "code",
   "execution_count": null,
   "metadata": {
    "colab": {
     "base_uri": "https://localhost:8080/"
    },
    "executionInfo": {
     "elapsed": 45817,
     "status": "ok",
     "timestamp": 1606202496693,
     "user": {
      "displayName": "Tai Nguyen",
      "photoUrl": "https://lh3.googleusercontent.com/a-/AOh14GgSxoywFDHJGfnox9fCFqAY1AQP9LOTTIEWMfp7=s64",
      "userId": "06617934336246210574"
     },
     "user_tz": -420
    },
    "id": "55LkdRv4wYGp",
    "outputId": "07ebcc40-d0f4-44df-eb6d-4a6ce138c3fe",
    "scrolled": true
   },
   "outputs": [],
   "source": [
    "warmup_run()"
   ]
  },
  {
   "cell_type": "code",
   "execution_count": null,
   "metadata": {
    "colab": {
     "base_uri": "https://localhost:8080/"
    },
    "id": "mI_Zt_79wmQ4",
    "outputId": "e8396ef3-8d25-42bb-b3d7-fb13caf5789b",
    "scrolled": true
   },
   "outputs": [],
   "source": [
    "train_run()"
   ]
  },
  {
   "cell_type": "code",
   "execution_count": null,
   "metadata": {
    "executionInfo": {
     "elapsed": 28443,
     "status": "ok",
     "timestamp": 1606202479264,
     "user": {
      "displayName": "Tai Nguyen",
      "photoUrl": "https://lh3.googleusercontent.com/a-/AOh14GgSxoywFDHJGfnox9fCFqAY1AQP9LOTTIEWMfp7=s64",
      "userId": "06617934336246210574"
     },
     "user_tz": -420
    },
    "id": "cgsme0MTntot"
   },
   "outputs": [],
   "source": [
    "# constants['agent']['save_weights_file_path'] = f'weight/goal400_100_10k.h5'\n",
    "# dqn_agent = DQNAgent(state_tracker.get_state_size(), constants)"
   ]
  },
  {
   "cell_type": "code",
   "execution_count": null,
   "metadata": {},
   "outputs": [],
   "source": [
    "constants"
   ]
  },
  {
   "cell_type": "code",
   "execution_count": null,
   "metadata": {
    "id": "uGrS5TATXOZZ",
    "scrolled": true
   },
   "outputs": [],
   "source": [
    "dqn_agent.save_weights()"
   ]
  },
  {
   "cell_type": "code",
   "execution_count": null,
   "metadata": {
    "id": "a91VOyKngqss"
   },
   "outputs": [],
   "source": [
    "# NUM_EP_TEST = run_dict['num_ep_run']"
   ]
  },
  {
   "cell_type": "code",
   "execution_count": null,
   "metadata": {},
   "outputs": [],
   "source": [
    "NUM_EP_TEST = 500"
   ]
  },
  {
   "cell_type": "code",
   "execution_count": null,
   "metadata": {
    "id": "zQHpvb6xgGv4"
   },
   "outputs": [],
   "source": [
    "def test_run():\n",
    "    \"\"\"\n",
    "    Runs the loop that tests the agent.\n",
    "\n",
    "    Tests the agent on the goal-oriented chatbot task. Only for evaluating a trained agent. Terminates when the episode\n",
    "    reaches NUM_EP_TEST.\n",
    "\n",
    "    \"\"\"\n",
    "\n",
    "    print('Testing Started...')\n",
    "    episode = 0\n",
    "    while episode < NUM_EP_TEST:\n",
    "        episode_reset()\n",
    "        episode += 1\n",
    "        ep_reward = 0\n",
    "        done = False\n",
    "        # Get initial state from state tracker\n",
    "        state = state_tracker.get_state()\n",
    "        while not done:\n",
    "            # Agent takes action given state tracker's representation of dialogue\n",
    "            agent_action_index, agent_action = dqn_agent.get_action(state)\n",
    "            # Update state tracker with the agent's action\n",
    "            state_tracker.update_state_agent(agent_action)\n",
    "            print(\"agent: {}\".format(str(agent_action)))\n",
    "\n",
    "            # User takes action given agent action\n",
    "            user_action, reward, done, success = user.step(agent_action)\n",
    "            print(\"user: {}\".format(str(user_action)))\n",
    "\n",
    "            ep_reward += reward\n",
    "            if not done:\n",
    "                # Infuse error into semantic frame level of user action\n",
    "                emc.infuse_error(user_action)\n",
    "            # Update state tracker with user action\n",
    "            state_tracker.update_state_user(user_action)\n",
    "            # Grab \"next state\" as state\n",
    "            state = state_tracker.get_state(done)\n",
    "        print('Episode: {} Success: {} Reward: {}'.format(episode, success, ep_reward))\n",
    "    print('...Testing Ended')"
   ]
  },
  {
   "cell_type": "code",
   "execution_count": null,
   "metadata": {
    "id": "IXvTXDKngiHn",
    "scrolled": true
   },
   "outputs": [],
   "source": [
    "test_run()"
   ]
  }
 ],
 "metadata": {
  "accelerator": "GPU",
  "colab": {
   "collapsed_sections": [],
   "name": "train_dqn.ipynb",
   "provenance": []
  },
  "kernelspec": {
   "display_name": "nlp",
   "language": "python",
   "name": "nlp"
  },
  "language_info": {
   "codemirror_mode": {
    "name": "ipython",
    "version": 3
   },
   "file_extension": ".py",
   "mimetype": "text/x-python",
   "name": "python",
   "nbconvert_exporter": "python",
   "pygments_lexer": "ipython3",
   "version": "3.6.12"
  },
  "toc": {
   "base_numbering": 1,
   "nav_menu": {},
   "number_sections": true,
   "sideBar": true,
   "skip_h1_title": false,
   "title_cell": "Table of Contents",
   "title_sidebar": "Contents",
   "toc_cell": false,
   "toc_position": {},
   "toc_section_display": true,
   "toc_window_display": false
  }
 },
 "nbformat": 4,
 "nbformat_minor": 1
}
